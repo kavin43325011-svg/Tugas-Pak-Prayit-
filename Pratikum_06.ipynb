{
  "nbformat": 4,
  "nbformat_minor": 0,
  "metadata": {
    "colab": {
      "provenance": [],
      "authorship_tag": "ABX9TyOR9SCcB3s6DA2zGRJVD9tf",
      "include_colab_link": true
    },
    "kernelspec": {
      "name": "python3",
      "display_name": "Python 3"
    },
    "language_info": {
      "name": "python"
    }
  },
  "cells": [
    {
      "cell_type": "markdown",
      "metadata": {
        "id": "view-in-github",
        "colab_type": "text"
      },
      "source": [
        "<a href=\"https://colab.research.google.com/github/kavin43325011-svg/Tugas-Pak-Prayit-/blob/main/Pratikum_06.ipynb\" target=\"_parent\"><img src=\"https://colab.research.google.com/assets/colab-badge.svg\" alt=\"Open In Colab\"/></a>"
      ]
    },
    {
      "cell_type": "markdown",
      "source": [
        "# **JOBSHEAT 06**"
      ],
      "metadata": {
        "id": "TnugA-joXrIe"
      }
    },
    {
      "cell_type": "markdown",
      "source": [
        "**PERATIKUM 1**"
      ],
      "metadata": {
        "id": "yzsycwNQX4Jq"
      }
    },
    {
      "cell_type": "code",
      "source": [
        "mahasiswa = [\"Andi\", \"Budi\", \"Cici\"]\n",
        "print(mahasiswa[0])     # Andi\n",
        "print(mahasiswa[1])     # Budi\n",
        "print(mahasiswa[-1])    # Cici 5:\n"
      ],
      "metadata": {
        "colab": {
          "base_uri": "https://localhost:8080/"
        },
        "id": "6PSgK0_zYQfN",
        "outputId": "fbbc084e-ec9c-4b65-f430-f674a6b3606a"
      },
      "execution_count": 1,
      "outputs": [
        {
          "output_type": "stream",
          "name": "stdout",
          "text": [
            "Andi\n",
            "Budi\n",
            "Cici\n"
          ]
        }
      ]
    },
    {
      "cell_type": "markdown",
      "source": [
        "**PERATIKUM 2**"
      ],
      "metadata": {
        "id": "hxMGxrRvX-uh"
      }
    },
    {
      "cell_type": "code",
      "source": [
        "nilai = [85, 90, 78]\n",
        "nilai[1] = 95\n",
        "nilai.append(100)\n",
        "nilai.remove(78)\n",
        "print(nilai)\n",
        "\n"
      ],
      "metadata": {
        "colab": {
          "base_uri": "https://localhost:8080/"
        },
        "id": "sDLcihyQZ768",
        "outputId": "e63ceed5-d4a9-4610-9619-fab0c6fae76d"
      },
      "execution_count": 6,
      "outputs": [
        {
          "output_type": "stream",
          "name": "stdout",
          "text": [
            "[85, 95, 100]\n"
          ]
        }
      ]
    },
    {
      "cell_type": "markdown",
      "source": [
        "**PERATIKUM 3**"
      ],
      "metadata": {
        "id": "F4FsuRYSX-0b"
      }
    },
    {
      "cell_type": "code",
      "source": [
        "nilai = [85, 90, 78, 92, 88]\n",
        "print(nilai[0:3])\n",
        "print(nilai[2:])\n",
        "print(nilai[:3])"
      ],
      "metadata": {
        "colab": {
          "base_uri": "https://localhost:8080/"
        },
        "id": "JgGVsVbHacnU",
        "outputId": "0eebc410-7f17-4956-c757-4224fe2e50da"
      },
      "execution_count": 9,
      "outputs": [
        {
          "output_type": "stream",
          "name": "stdout",
          "text": [
            "[85, 90, 78]\n",
            "[78, 92, 88]\n",
            "[85, 90, 78]\n"
          ]
        }
      ]
    },
    {
      "cell_type": "markdown",
      "source": [
        "**PERATIKUM 4**"
      ],
      "metadata": {
        "id": "8Oph_pVjX-49"
      }
    },
    {
      "cell_type": "code",
      "source": [
        "matriks = [\n",
        "     [1, 2, 3],\n",
        "     [4, 5, 6],\n",
        "     [7, 8, 9]\n",
        " ]\n",
        "print(matriks[0][0])  # 1\n",
        "print(matriks[1][2])  # 6\n",
        "print(matriks[2])     # [7, 8, 9]\n",
        "\n"
      ],
      "metadata": {
        "colab": {
          "base_uri": "https://localhost:8080/"
        },
        "id": "b8xAf9f1a8DP",
        "outputId": "dea93325-835b-4d96-9db8-6ee35d0b5767"
      },
      "execution_count": 20,
      "outputs": [
        {
          "output_type": "stream",
          "name": "stdout",
          "text": [
            "1\n",
            "6\n",
            "[7, 8, 9]\n"
          ]
        }
      ]
    },
    {
      "cell_type": "markdown",
      "source": [
        "**PERATIKUM 5**"
      ],
      "metadata": {
        "id": "i0-LDXLfX-9q"
      }
    },
    {
      "cell_type": "code",
      "source": [
        "A = [[1, 2, 3], [4, 5, 6]]\n",
        "B = [[7, 8, 9], [10, 11, 12]]\n",
        "C = []\n",
        "\n",
        "for i in range(len(A)):\n",
        "     baris = []\n",
        "     for j in range(len(A[0])):\n",
        "         baris.append(A[i][j] + B[i][j])\n",
        "     C.append(baris)\n",
        "\n",
        "print(C)\n"
      ],
      "metadata": {
        "colab": {
          "base_uri": "https://localhost:8080/"
        },
        "id": "QN1N-wEObur1",
        "outputId": "b91bbbe9-5116-4f2c-f74c-e39be2d6a980"
      },
      "execution_count": 23,
      "outputs": [
        {
          "output_type": "stream",
          "name": "stdout",
          "text": [
            "[[8, 10, 12], [14, 16, 18]]\n"
          ]
        }
      ]
    },
    {
      "cell_type": "markdown",
      "source": [
        "**PERATIKUM 6**"
      ],
      "metadata": {
        "id": "y19hZPCYX_Ci"
      }
    },
    {
      "cell_type": "code",
      "source": [
        "nilai = [\n",
        "     [80, 90, 85],\n",
        "     [70, 75, 80],\n",
        "     [88, 92, 84]\n",
        " ]\n",
        "\n",
        "for i, baris in enumerate(nilai, start=1):\n",
        "     rata = sum(baris) / len(baris)\n",
        "     print(f\"Rata-rata mahasiswa {i}: {rata:.2f}\")\n"
      ],
      "metadata": {
        "colab": {
          "base_uri": "https://localhost:8080/"
        },
        "id": "HQ_qa2D1cLh1",
        "outputId": "a61b7d10-e068-456c-9c6b-a34416ebebb9"
      },
      "execution_count": 26,
      "outputs": [
        {
          "output_type": "stream",
          "name": "stdout",
          "text": [
            "Rata-rata mahasiswa 1: 85.00\n",
            "Rata-rata mahasiswa 2: 75.00\n",
            "Rata-rata mahasiswa 3: 88.00\n"
          ]
        }
      ]
    },
    {
      "cell_type": "code",
      "source": [],
      "metadata": {
        "id": "5mmEwyLOeZ56"
      },
      "execution_count": null,
      "outputs": []
    },
    {
      "cell_type": "markdown",
      "source": [
        "# **PENUGASAN**"
      ],
      "metadata": {
        "id": "Y4GnE6rNX_HY"
      }
    },
    {
      "cell_type": "markdown",
      "source": [
        "**PENUGASAN 1**"
      ],
      "metadata": {
        "id": "PtPCMAARecJk"
      }
    },
    {
      "cell_type": "code",
      "source": [
        "mahasiswa = [\"Angga wijayanto\", \"Jokowwi Dodol\", \"Bahlul Ladadida\", \"Dedi Mulyanto\", \"Jupe pares\"]\n",
        "print(\"Nama pertama:\", mahasiswa[0])\n",
        "print(\"Nama terakhir:\", mahasiswa[-1])\n",
        "print(\"Nama pada indeks ke-2:\", mahasiswa[2])\n"
      ],
      "metadata": {
        "colab": {
          "base_uri": "https://localhost:8080/"
        },
        "id": "npVd5117eo9N",
        "outputId": "b4ce9bd2-a743-4b15-94fd-7f6fcab05578"
      },
      "execution_count": 29,
      "outputs": [
        {
          "output_type": "stream",
          "name": "stdout",
          "text": [
            "Nama pertama: Angga wijayanto\n",
            "Nama terakhir: Jupe pares\n",
            "Nama pada indeks ke-2: Bahlul Ladadida\n"
          ]
        }
      ]
    },
    {
      "cell_type": "markdown",
      "source": [
        "\n",
        "\n",
        "```\n",
        "# This is formatted as code\n",
        "```\n",
        "\n",
        "**PENUGASAN 2**"
      ],
      "metadata": {
        "id": "J-M6Evr4ekU6"
      }
    },
    {
      "cell_type": "code",
      "source": [
        "nilai = [70, 75, 80]\n",
        "nilai[1] = 85\n",
        "nilai.append(90)\n",
        "nilai.remove(70)\n",
        "print(\"Hasil akhir:\", nilai)\n"
      ],
      "metadata": {
        "colab": {
          "base_uri": "https://localhost:8080/"
        },
        "id": "Cjmc5_cClGxp",
        "outputId": "87a89385-4bcb-4b56-a417-1512ace0c69b"
      },
      "execution_count": 30,
      "outputs": [
        {
          "output_type": "stream",
          "name": "stdout",
          "text": [
            "Hasil akhir: [85, 80, 90]\n"
          ]
        }
      ]
    },
    {
      "cell_type": "markdown",
      "source": [
        "**PENUGASAN 3**"
      ],
      "metadata": {
        "id": "0C6eWQNnekcK"
      }
    },
    {
      "cell_type": "code",
      "source": [
        "angka = [1, 2, 3, 4, 5, 6, 7, 8, 9, 10]\n",
        "print(\"3 elemen pertama:\", angka[:3])\n",
        "print(\"4 elemen terakhir:\", angka[-4:])\n",
        "print(\"Elemen dengan indeks genap:\", angka[::2])\n"
      ],
      "metadata": {
        "colab": {
          "base_uri": "https://localhost:8080/"
        },
        "id": "ik0gZno7lwY1",
        "outputId": "2b959e50-749d-48ae-cb6c-a98b3b6fe821"
      },
      "execution_count": 31,
      "outputs": [
        {
          "output_type": "stream",
          "name": "stdout",
          "text": [
            "3 elemen pertama: [1, 2, 3]\n",
            "4 elemen terakhir: [7, 8, 9, 10]\n",
            "Elemen dengan indeks genap: [1, 3, 5, 7, 9]\n"
          ]
        }
      ]
    },
    {
      "cell_type": "markdown",
      "source": [
        "**PENUGASAN 4**"
      ],
      "metadata": {
        "id": "CXuljO3Sekf4"
      }
    },
    {
      "cell_type": "code",
      "source": [
        "matriks = [\n",
        "    [1, 2, 3],\n",
        "    [4, 5, 6]\n",
        "]\n",
        "\n",
        "print(matriks[0][1])\n",
        "print(matriks[1][2])\n",
        "print(matriks[0])\n"
      ],
      "metadata": {
        "colab": {
          "base_uri": "https://localhost:8080/"
        },
        "id": "uDcv1mbumNCl",
        "outputId": "083a2b82-23ff-4369-c399-e1e280c888ee"
      },
      "execution_count": 32,
      "outputs": [
        {
          "output_type": "stream",
          "name": "stdout",
          "text": [
            "2\n",
            "6\n",
            "[1, 2, 3]\n"
          ]
        }
      ]
    },
    {
      "cell_type": "markdown",
      "source": [
        "**PENUGASAN 5**"
      ],
      "metadata": {
        "id": "RKWUDqj7eksw"
      }
    },
    {
      "cell_type": "code",
      "source": [
        "matriks1 = [\n",
        "    [1, 2],\n",
        "    [3, 4]\n",
        "]\n",
        "\n",
        "matriks2 = [\n",
        "    [5, 6],\n",
        "    [7, 8]\n",
        "]\n",
        "\n",
        "hasil = [\n",
        "    [matriks1[0][0] + matriks2[0][0], matriks1[0][1] + matriks2[0][1]],\n",
        "    [matriks1[1][0] + matriks2[1][0], matriks1[1][1] + matriks2[1][1]]\n",
        "]\n",
        "\n",
        "print(hasil)\n"
      ],
      "metadata": {
        "colab": {
          "base_uri": "https://localhost:8080/"
        },
        "id": "HXsIiQZkmSw8",
        "outputId": "9e450a35-e461-4d64-a3cd-4bb6d1e162a3"
      },
      "execution_count": 33,
      "outputs": [
        {
          "output_type": "stream",
          "name": "stdout",
          "text": [
            "[[6, 8], [10, 12]]\n"
          ]
        }
      ]
    },
    {
      "cell_type": "markdown",
      "source": [
        "**PENUGASAN 6**"
      ],
      "metadata": {
        "id": "fMoCuKfdeoK-"
      }
    },
    {
      "cell_type": "code",
      "source": [
        "nilai = [\n",
        "    [75, 80, 85],\n",
        "    [60, 70, 65],\n",
        "    [90, 95, 92]\n",
        "]\n",
        "\n",
        "for i in range(len(nilai)):\n",
        "    rata = sum(nilai[i]) / len(nilai[i])\n",
        "    print(\"Rata-rata mahasiswa\", i+1, \"=\", rata)\n"
      ],
      "metadata": {
        "colab": {
          "base_uri": "https://localhost:8080/"
        },
        "id": "yST1zqudmsXA",
        "outputId": "ea09124b-325e-4f38-bcff-fbc65c915151"
      },
      "execution_count": 34,
      "outputs": [
        {
          "output_type": "stream",
          "name": "stdout",
          "text": [
            "Rata-rata mahasiswa 1 = 80.0\n",
            "Rata-rata mahasiswa 2 = 65.0\n",
            "Rata-rata mahasiswa 3 = 92.33333333333333\n"
          ]
        }
      ]
    },
    {
      "cell_type": "markdown",
      "source": [
        "**PENUGASAN 7**"
      ],
      "metadata": {
        "id": "C0n2qcXAeoQo"
      }
    },
    {
      "cell_type": "code",
      "source": [
        "stok = [\n",
        "    [\"Buku\", 20],\n",
        "    [\"Pulpen\", 35],\n",
        "    [\"Penghapus\", 15]\n",
        "]\n",
        "\n",
        "for barang in stok:\n",
        "    print(barang[0], \":\", barang[1])\n",
        "\n",
        "terbanyak = stok[0]\n",
        "for barang in stok:\n",
        "    if barang[1] > terbanyak[1]:\n",
        "        terbanyak = barang\n",
        "\n",
        "print(\"Barang dengan stok terbanyak:\", terbanyak[0], \"=\", terbanyak[1])\n"
      ],
      "metadata": {
        "colab": {
          "base_uri": "https://localhost:8080/"
        },
        "id": "oGvsFPW8m2h_",
        "outputId": "05c350a3-be0a-4920-8f00-a6f70ae7eafa"
      },
      "execution_count": 35,
      "outputs": [
        {
          "output_type": "stream",
          "name": "stdout",
          "text": [
            "Buku : 20\n",
            "Pulpen : 35\n",
            "Penghapus : 15\n",
            "Barang dengan stok terbanyak: Pulpen = 35\n"
          ]
        }
      ]
    }
  ]
}
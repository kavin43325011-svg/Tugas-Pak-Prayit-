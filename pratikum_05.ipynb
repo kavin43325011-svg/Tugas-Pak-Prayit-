{
  "nbformat": 4,
  "nbformat_minor": 0,
  "metadata": {
    "colab": {
      "provenance": [],
      "name": "pratikum_05.ipynb",
      "authorship_tag": "ABX9TyNA5B0baoPNque+Z4cmW8nH",
      "include_colab_link": true
    },
    "kernelspec": {
      "name": "python3",
      "display_name": "Python 3"
    },
    "language_info": {
      "name": "python"
    }
  },
  "cells": [
    {
      "cell_type": "markdown",
      "metadata": {
        "id": "view-in-github",
        "colab_type": "text"
      },
      "source": [
        "<a href=\"https://colab.research.google.com/github/kavin43325011-svg/Tugas-Pak-Prayit-/blob/main/pratikum_05.ipynb\" target=\"_parent\"><img src=\"https://colab.research.google.com/assets/colab-badge.svg\" alt=\"Open In Colab\"/></a>"
      ]
    },
    {
      "cell_type": "markdown",
      "source": [
        "# **PRAKTIKUM 5**"
      ],
      "metadata": {
        "id": "GEmt-rvnL0da"
      }
    },
    {
      "cell_type": "markdown",
      "source": [
        "**PRAKTEK 1**"
      ],
      "metadata": {
        "id": "EEtISnfUTZl7"
      }
    },
    {
      "cell_type": "code",
      "source": [
        "\n",
        "teks = \"Politeknik Negeri Semarang\"\n",
        "\n",
        "print(teks[0:10]) #Politeknik\n",
        "print(teks[-8:]) #Semarang\n",
        "print(teks[1:11])"
      ],
      "metadata": {
        "colab": {
          "base_uri": "https://localhost:8080/"
        },
        "id": "d-VbaKqNTxW8",
        "outputId": "8c56cb7d-f826-4009-f7de-bbce0dab5f16"
      },
      "execution_count": 8,
      "outputs": [
        {
          "output_type": "stream",
          "name": "stdout",
          "text": [
            "Politeknik\n",
            "Semarang\n",
            "oliteknik \n"
          ]
        }
      ]
    },
    {
      "cell_type": "markdown",
      "source": [
        "**PRAKTEK 2**"
      ],
      "metadata": {
        "id": "Vwr7aYEoTfzP"
      }
    },
    {
      "cell_type": "code",
      "source": [
        "teks = \"Politeknik Negeri Semarang\"\n",
        "\n",
        "print(teks.upper())\n",
        "print(teks.lower())\n",
        "print(teks.title())\n",
        "print(teks.strip())\n",
        "print(teks.split(\" \"))\n",
        "print(\"-\".join([\"Politeknik\", \"Negeri\", \"Semarang\"]))"
      ],
      "metadata": {
        "colab": {
          "base_uri": "https://localhost:8080/"
        },
        "id": "_aVdjVihUF2V",
        "outputId": "04b02596-cd3b-4a29-f140-a335badeac7f"
      },
      "execution_count": 2,
      "outputs": [
        {
          "output_type": "stream",
          "name": "stdout",
          "text": [
            "POLITEKNIK NEGERI SEMARANG\n",
            "politeknik negeri semarang\n",
            "Politeknik Negeri Semarang\n",
            "Politeknik Negeri Semarang\n",
            "['Politeknik', 'Negeri', 'Semarang']\n",
            "Politeknik-Negeri-Semarang\n"
          ]
        }
      ]
    },
    {
      "cell_type": "markdown",
      "source": [
        "**PRAKTEK 3**"
      ],
      "metadata": {
        "id": "hrl9Dzv_Tf3n"
      }
    },
    {
      "cell_type": "code",
      "source": [
        "password = input(\"Masukkan password baru: \")\n",
        "\n",
        "if len(password) >= 8:\n",
        "  print(\"Password valid\")\n",
        "else:\n",
        "  print(\"Password terlalu pendek\")\n",
        ""
      ],
      "metadata": {
        "colab": {
          "base_uri": "https://localhost:8080/"
        },
        "id": "jtfxWzRgUWZQ",
        "outputId": "19f9e679-ca28-47c4-c214-0da0d2784418"
      },
      "execution_count": 10,
      "outputs": [
        {
          "output_type": "stream",
          "name": "stdout",
          "text": [
            "Masukkan password baru: python123\n",
            "Password valid\n"
          ]
        }
      ]
    },
    {
      "cell_type": "markdown",
      "source": [
        "**PRAKTEK 4**"
      ],
      "metadata": {
        "id": "lXByJsa9Tf8s"
      }
    },
    {
      "cell_type": "code",
      "source": [
        "nama = input(\"Masukkan nama anda: \")\n",
        "usia = int(input(\"Masukkan usia anda: \"))\n",
        "\n",
        "print(f\"Selamat datang {nama}, anda berusia {usia} tahun\")"
      ],
      "metadata": {
        "colab": {
          "base_uri": "https://localhost:8080/"
        },
        "id": "Knk4alpeUV1-",
        "outputId": "69aa7fcf-5d31-4535-a6aa-c29b3acc69a7"
      },
      "execution_count": 4,
      "outputs": [
        {
          "output_type": "stream",
          "name": "stdout",
          "text": [
            "Masukkan nama anda: kevin\n",
            "Masukkan usia anda: 12\n",
            "Selamat datang kevin, anda berusia 12 tahun\n"
          ]
        }
      ]
    },
    {
      "cell_type": "markdown",
      "source": [
        "**PRAKTEK 5**"
      ],
      "metadata": {
        "id": "GIQ_rLrNTgDh"
      }
    },
    {
      "cell_type": "code",
      "source": [
        "a = int(input(\"Masukkan angka pertama: \"))\n",
        "b = int(input(\"Masukkan angka kedua: \"))\n",
        "\n",
        "print(f\"\\n  Hasil penjumlahan dari {a} + {b} adalah {a + b}\")\n",
        "print(f\"\\nHasil pembagian dari {a} / {b} adalah {a / b}\")"
      ],
      "metadata": {
        "colab": {
          "base_uri": "https://localhost:8080/"
        },
        "id": "RPIcfi5MU6TX",
        "outputId": "9b64803b-d9a6-4dcc-c55f-6cd6168f344e"
      },
      "execution_count": 9,
      "outputs": [
        {
          "output_type": "stream",
          "name": "stdout",
          "text": [
            "Masukkan angka pertama: 7\n",
            "Masukkan angka kedua: 5\n",
            "\n",
            "  Hasil penjumlahan dari 7 + 5 adalah 12\n",
            "\n",
            "Hasil pembagian dari 7 / 5 adalah 1.4\n"
          ]
        }
      ]
    },
    {
      "cell_type": "markdown",
      "source": [
        "**PRAKTEK 6**"
      ],
      "metadata": {
        "id": "BNKlqdNFTgL8"
      }
    },
    {
      "cell_type": "code",
      "source": [
        "angka = 123\n",
        "string = \"456\"\n",
        "\n",
        "print(\"Nilai: \" + str(angka))\n",
        "print(int(string) + 10)"
      ],
      "metadata": {
        "colab": {
          "base_uri": "https://localhost:8080/"
        },
        "id": "gCTuc0JpL3Ra",
        "outputId": "5d8e8891-5227-4ba1-95c5-cfd156a972e0"
      },
      "execution_count": 6,
      "outputs": [
        {
          "output_type": "stream",
          "name": "stdout",
          "text": [
            "Nilai: 123\n",
            "466\n"
          ]
        }
      ]
    },
    {
      "cell_type": "markdown",
      "source": [
        "**PRAKTEK 7**"
      ],
      "metadata": {
        "id": "wDjcNYOUVaaC"
      }
    },
    {
      "cell_type": "code",
      "source": [
        "kalimat = \"Saya kuliah di Politeknik Negeri Semarang\"\n",
        "\n",
        "daftar_kata = kalimat.split(\" \")\n",
        "\n",
        "print(f\"Jumlah kata: {len(daftar_kata)}\")\n",
        "for i, kata in enumerate(daftar_kata, start = 1):\n",
        "  print(i, kata)"
      ],
      "metadata": {
        "colab": {
          "base_uri": "https://localhost:8080/"
        },
        "id": "RX2eiQg3Vc01",
        "outputId": "d7b2abe8-121c-4d36-fefd-0014790e6840"
      },
      "execution_count": 7,
      "outputs": [
        {
          "output_type": "stream",
          "name": "stdout",
          "text": [
            "Jumlah kata: 6\n",
            "1 Saya\n",
            "2 kuliah\n",
            "3 di\n",
            "4 Politeknik\n",
            "5 Negeri\n",
            "6 Semarang\n"
          ]
        }
      ]
    },
    {
      "cell_type": "markdown",
      "source": [
        "# **PENUGASAN**"
      ],
      "metadata": {
        "id": "x29nnEqyXLa7"
      }
    },
    {
      "cell_type": "markdown",
      "source": [
        "**TUGAS 1**"
      ],
      "metadata": {
        "id": "BwsTCjNoXQkA"
      }
    },
    {
      "cell_type": "code",
      "source": [
        "teks = \"Politeknik Negeri Semarang\"\n",
        "\n",
        "print(teks[-8:])\n",
        "print(teks[11:17])"
      ],
      "metadata": {
        "colab": {
          "base_uri": "https://localhost:8080/"
        },
        "id": "YkBLr_ojjk5j",
        "outputId": "7c0702db-77db-467a-db8f-1416abfcb3bc"
      },
      "execution_count": 13,
      "outputs": [
        {
          "output_type": "stream",
          "name": "stdout",
          "text": [
            "Semarang\n",
            "Negeri\n"
          ]
        }
      ]
    },
    {
      "cell_type": "markdown",
      "source": [
        "**TUGAS 2**"
      ],
      "metadata": {
        "id": "-j1kA9G2XiwN"
      }
    },
    {
      "cell_type": "code",
      "source": [
        "teks = input(\"Masukkan kata atau kalimat: \")\n",
        "\n",
        "print(teks.upper())\n",
        "print(teks.lower())\n",
        "print(len(teks))"
      ],
      "metadata": {
        "colab": {
          "base_uri": "https://localhost:8080/"
        },
        "id": "ZvxYfaHzkEoe",
        "outputId": "915548f9-e043-4d45-b15a-76fcb85f6048"
      },
      "execution_count": 14,
      "outputs": [
        {
          "output_type": "stream",
          "name": "stdout",
          "text": [
            "Masukkan kata atau kalimat: Kavindra Vabriananda\n",
            "KAVINDRA VABRIANANDA\n",
            "kavindra vabriananda\n",
            "20\n"
          ]
        }
      ]
    },
    {
      "cell_type": "markdown",
      "source": [
        "**TUGAS 3**"
      ],
      "metadata": {
        "id": "1MfvL43MXi3h"
      }
    },
    {
      "cell_type": "code",
      "source": [
        "username = input(\"Masukkan username: \")\n",
        "\n",
        "if ' ' in username:\n",
        "    print(\"Error: Username tidak boleh mengandung spasi.\")\n",
        "else:\n",
        "    print(\"Username valid.\")"
      ],
      "metadata": {
        "colab": {
          "base_uri": "https://localhost:8080/"
        },
        "id": "Luz9hrnLkOf1",
        "outputId": "d9eecaa6-a3b8-4bd6-c8d1-ad5897227573"
      },
      "execution_count": 16,
      "outputs": [
        {
          "output_type": "stream",
          "name": "stdout",
          "text": [
            "Masukkan username: kepins\n",
            "Username valid.\n"
          ]
        }
      ]
    },
    {
      "cell_type": "markdown",
      "source": [
        "**TUGAS 4**"
      ],
      "metadata": {
        "id": "aVXs5iGqXi7i"
      }
    },
    {
      "cell_type": "code",
      "source": [
        "nama = input(\"Masukkan nama: \")\n",
        "umur = int(input(\"Masukkan umur: \"))\n",
        "jurusan = input(\"Masukkan jurusan kamu: \")\n",
        "\n",
        "print(f\"\\nNama: {nama}\")\n",
        "print(f\"Umur: {umur}\")\n",
        "print(f\"Jurusan: {jurusan}\")"
      ],
      "metadata": {
        "colab": {
          "base_uri": "https://localhost:8080/"
        },
        "id": "OLADlJXgk0WV",
        "outputId": "7e9b77ff-f932-4e8f-e5c9-bc3c47053b7b"
      },
      "execution_count": 17,
      "outputs": [
        {
          "output_type": "stream",
          "name": "stdout",
          "text": [
            "Masukkan nama: Kepins\n",
            "Masukkan umur: 21\n",
            "Masukkan jurusan kamu: Teknologi Rekayasa AI\n",
            "\n",
            "Nama: Kepins\n",
            "Umur: 21\n",
            "Jurusan: Teknologi Rekayasa AI\n"
          ]
        }
      ]
    },
    {
      "cell_type": "markdown",
      "source": [
        "**TUGAS 5**"
      ],
      "metadata": {
        "id": "jIv0pjkaXi_d"
      }
    },
    {
      "cell_type": "code",
      "source": [
        "try:\n",
        "    bilangan1 = float(input(\"Masukkan bilangan pertama: \"))\n",
        "    bilangan2 = float(input(\"Masukkan bilangan kedua: \"))\n",
        "\n",
        "    penjumlahan = bilangan1 + bilangan2\n",
        "    perkalian = bilangan1 * bilangan2\n",
        "\n",
        "    print(f\"Hasil penjumlahan: {penjumlahan}\")\n",
        "    print(f\"Hasil perkalian: {perkalian}\")\n",
        "\n",
        "    if bilangan2 == 0:\n",
        "        print(\"Hasil bagi: Error (Tidak bisa melakukan pembagian dengan nol)\")\n",
        "    else:\n",
        "        pembagian = bilangan1 / bilangan2\n",
        "        print(f\"Hasil bagi: {pembagian:.3f}\")\n",
        "\n",
        "except ValueError:\n",
        "    print(\"Error: Input yang dimasukkan harus berupa angka.\")"
      ],
      "metadata": {
        "colab": {
          "base_uri": "https://localhost:8080/"
        },
        "id": "bZRG1cPdmTk1",
        "outputId": "99c67a98-8602-4f37-8245-f93115fea436"
      },
      "execution_count": 21,
      "outputs": [
        {
          "output_type": "stream",
          "name": "stdout",
          "text": [
            "Masukkan bilangan pertama: 30\n",
            "Masukkan bilangan kedua: 7\n",
            "Hasil penjumlahan: 37.0\n",
            "Hasil perkalian: 210.0\n",
            "Hasil bagi: 4.286\n"
          ]
        }
      ]
    },
    {
      "cell_type": "markdown",
      "source": [
        "**TUGAS 6**"
      ],
      "metadata": {
        "id": "Q3TomCS2XjDn"
      }
    },
    {
      "cell_type": "code",
      "source": [
        "angka_string = input(\"Masukkan sebuah angka: \")\n",
        "\n",
        "try:\n",
        "    angka_integer = int(angka_string)\n",
        "\n",
        "    hasil_kuadrat = angka_integer ** 2\n",
        "    print(f\"Bentuk integer: {angka_integer}\")\n",
        "    print(f\"Hasil kuadrat: {hasil_kuadrat}\")\n",
        "\n",
        "    angka_float = float(angka_string)\n",
        "\n",
        "    print(f\"Bentuk float (2 desimal): {angka_float:.2f}\")\n",
        "\n",
        "except ValueError:\n",
        "    print(f\"Error: '{angka_string}' bukan input angka yang valid.\")"
      ],
      "metadata": {
        "colab": {
          "base_uri": "https://localhost:8080/"
        },
        "id": "KDQPBPy3mdRF",
        "outputId": "651b2179-95b8-4937-d31d-5237f3264778"
      },
      "execution_count": 23,
      "outputs": [
        {
          "output_type": "stream",
          "name": "stdout",
          "text": [
            "Masukkan sebuah angka: 77\n",
            "Bentuk integer: 77\n",
            "Hasil kuadrat: 5929\n",
            "Bentuk float (2 desimal): 77.00\n"
          ]
        }
      ]
    },
    {
      "cell_type": "markdown",
      "source": [
        "**TUGAS 7**"
      ],
      "metadata": {
        "id": "huVdqM0rXjJr"
      }
    },
    {
      "cell_type": "code",
      "source": [
        "kalimat = input(\"Masukkan sebuah kalimat: \")\n",
        "\n",
        "daftar_kata = kalimat.split()\n",
        "\n",
        "if not daftar_kata:\n",
        "    print(\"Anda tidak memasukkan kalimat apapun.\")\n",
        "else:\n",
        "    jumlah_kata = len(daftar_kata)\n",
        "    print(f\"Jumlah kata: {jumlah_kata}\")\n",
        "\n",
        "    kata_terpanjang = max(daftar_kata, key=len)\n",
        "    print(f\"Kata terpanjang: {kata_terpanjang}\")\n",
        "\n",
        "    kata_terurut = sorted(daftar_kata, key=str.lower)\n",
        "\n",
        "    print(f\"Urutan kata (abjad): {' '.join(kata_terurut)}\")"
      ],
      "metadata": {
        "colab": {
          "base_uri": "https://localhost:8080/"
        },
        "id": "u9aqkXI1XaO-",
        "outputId": "04f329ee-5153-42e5-f370-46232153a113"
      },
      "execution_count": 24,
      "outputs": [
        {
          "output_type": "stream",
          "name": "stdout",
          "text": [
            "Masukkan sebuah kalimat: Aku cinta Algopro\n",
            "Jumlah kata: 3\n",
            "Kata terpanjang: Algopro\n",
            "Urutan kata (abjad): Aku Algopro cinta\n"
          ]
        }
      ]
    }
  ]
}
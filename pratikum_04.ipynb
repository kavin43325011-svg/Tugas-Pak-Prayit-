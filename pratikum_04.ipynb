{
  "nbformat": 4,
  "nbformat_minor": 0,
  "metadata": {
    "colab": {
      "provenance": [],
      "name": "pratikum-4.ipynb",
      "authorship_tag": "ABX9TyOJGABS8xJWpC9kB5Ujzo9P",
      "include_colab_link": true
    },
    "kernelspec": {
      "name": "python3",
      "display_name": "Python 3"
    },
    "language_info": {
      "name": "python"
    }
  },
  "cells": [
    {
      "cell_type": "markdown",
      "metadata": {
        "id": "view-in-github",
        "colab_type": "text"
      },
      "source": [
        "<a href=\"https://colab.research.google.com/github/kavin43325011-svg/Tugas-Pak-Prayit-/blob/main/pratikum_4.ipynb\" target=\"_parent\"><img src=\"https://colab.research.google.com/assets/colab-badge.svg\" alt=\"Open In Colab\"/></a>"
      ]
    },
    {
      "cell_type": "markdown",
      "source": [
        "# **PRAKTIKUM 4**"
      ],
      "metadata": {
        "id": "scGcExzV5QsA"
      }
    },
    {
      "cell_type": "markdown",
      "source": [
        "**PRAKTEK 1**"
      ],
      "metadata": {
        "id": "XUt3FKba5WE1"
      }
    },
    {
      "cell_type": "code",
      "execution_count": null,
      "metadata": {
        "colab": {
          "base_uri": "https://localhost:8080/"
        },
        "id": "SN0gKcT148Sg",
        "outputId": "f2a21a3b-47fd-47df-ff9d-e8ea0c6ed04d"
      },
      "outputs": [
        {
          "output_type": "stream",
          "name": "stdout",
          "text": [
            "1\n",
            "2\n",
            "3\n",
            "4\n",
            "5\n"
          ]
        }
      ],
      "source": [
        "for i in range (1, 6):\n",
        "  print (i)"
      ]
    },
    {
      "cell_type": "markdown",
      "source": [
        "**PRAKTEK 2**"
      ],
      "metadata": {
        "id": "jbzXwm_V6Cyh"
      }
    },
    {
      "cell_type": "code",
      "source": [
        "n = int(input(\"masukan angka: \"))\n",
        "while n > 0:\n",
        "  print (n)\n",
        "  n -= 1"
      ],
      "metadata": {
        "colab": {
          "base_uri": "https://localhost:8080/"
        },
        "id": "zGPg3dm66MUT",
        "outputId": "a4bae36d-cf74-489e-91da-13bcea8e78b7"
      },
      "execution_count": null,
      "outputs": [
        {
          "output_type": "stream",
          "name": "stdout",
          "text": [
            "masukan angka: 5\n",
            "5\n",
            "4\n",
            "3\n",
            "2\n",
            "1\n"
          ]
        }
      ]
    },
    {
      "cell_type": "markdown",
      "source": [
        "**PRAKTEK 3**"
      ],
      "metadata": {
        "id": "tKoW8nS360LX"
      }
    },
    {
      "cell_type": "code",
      "source": [
        "for i in range(1, 5) :\n",
        "    for i in range(i) :\n",
        "        print(\"*\",end=\"\")\n",
        "    print()"
      ],
      "metadata": {
        "colab": {
          "base_uri": "https://localhost:8080/"
        },
        "id": "44l9cmky65Qw",
        "outputId": "bff96840-0040-4785-92c5-a7afaafc18e6"
      },
      "execution_count": null,
      "outputs": [
        {
          "output_type": "stream",
          "name": "stdout",
          "text": [
            "*\n",
            "**\n",
            "***\n",
            "****\n"
          ]
        }
      ]
    },
    {
      "cell_type": "markdown",
      "source": [
        "**PRAKTEK 4**"
      ],
      "metadata": {
        "id": "uPO7Mw8Q8GeP"
      }
    },
    {
      "cell_type": "code",
      "source": [
        "for i in range(1, 11):\n",
        "    if i == 5:\n",
        "      print(\"Angka 5 ditemukan\")\n",
        "      break"
      ],
      "metadata": {
        "colab": {
          "base_uri": "https://localhost:8080/"
        },
        "id": "KqZpVqK78_AZ",
        "outputId": "4e87c6ea-11c7-430c-bc07-14dd6090d770"
      },
      "execution_count": null,
      "outputs": [
        {
          "output_type": "stream",
          "name": "stdout",
          "text": [
            "Angka 5 ditemukan\n"
          ]
        }
      ]
    },
    {
      "cell_type": "markdown",
      "source": [
        "**PRAKTEK 5**"
      ],
      "metadata": {
        "id": "kf0H9h929Iii"
      }
    },
    {
      "cell_type": "code",
      "source": [
        "data = {\"Nama\": \"Andi\", \"Umur\": 20, \"Prodi\": \"TRK\"}\n",
        "\n",
        "for k, v in data.items():\n",
        "    print(k, \":\", v)"
      ],
      "metadata": {
        "colab": {
          "base_uri": "https://localhost:8080/"
        },
        "id": "BFoi8BZ39OeM",
        "outputId": "1d3828a3-d286-4c59-a294-bea9a3d05613"
      },
      "execution_count": null,
      "outputs": [
        {
          "output_type": "stream",
          "name": "stdout",
          "text": [
            "Nama : Andi\n",
            "Umur : 20\n",
            "Prodi : TRK\n"
          ]
        }
      ]
    },
    {
      "cell_type": "markdown",
      "source": [
        "**PRAKTEK 6**"
      ],
      "metadata": {
        "id": "j7BkspyU-Lxf"
      }
    },
    {
      "cell_type": "code",
      "source": [
        "daftar = [\"Andi\", \"Budi\", \"Cici\"]\n",
        "\n",
        "for i, nama in enumerate(daftar, start=1):\n",
        "  print(i, nama)"
      ],
      "metadata": {
        "colab": {
          "base_uri": "https://localhost:8080/"
        },
        "id": "ZMQWBSLP-Ojs",
        "outputId": "71a05189-8ca3-477e-b23b-5274b165faee"
      },
      "execution_count": null,
      "outputs": [
        {
          "output_type": "stream",
          "name": "stdout",
          "text": [
            "1 Andi\n",
            "2 Budi\n",
            "3 Cici\n"
          ]
        }
      ]
    },
    {
      "cell_type": "markdown",
      "source": [
        "**PRAKTEK 7**"
      ],
      "metadata": {
        "id": "4GopJE1P-o0V"
      }
    },
    {
      "cell_type": "code",
      "source": [
        "total = 0\n",
        "\n",
        "while True:\n",
        "  barang = input(\"Masukkan nama barang (ketik 'selesai' untuk  berhenti): \")\n",
        "  if barang.lower() == \"selesai\":\n",
        "    break\n",
        "  harga = float(input(f\"Masukkan harga {barang}: \"))\n",
        "  jumlah = int(input(f\"Masukkan jumlah {barang}: \"))\n",
        "  subtotal = harga * jumlah\n",
        "  total += subtotal\n",
        "\n",
        "print(\"\\n===== Struk Belanja =====\")\n",
        "print(f\"Total Belanja : Rp {total}\")"
      ],
      "metadata": {
        "colab": {
          "base_uri": "https://localhost:8080/"
        },
        "id": "ZdplECPT-sBZ",
        "outputId": "abb2ed2b-a471-4df4-ed65-0a2d0d05e83f"
      },
      "execution_count": null,
      "outputs": [
        {
          "output_type": "stream",
          "name": "stdout",
          "text": [
            "Masukkan nama barang (ketik 'selesai' untuk  berhenti): buku\n",
            "Masukkan harga buku: 50000\n",
            "Masukkan jumlah buku: 2\n",
            "Masukkan nama barang (ketik 'selesai' untuk  berhenti): pulpen\n",
            "Masukkan harga pulpen: 5000\n",
            "Masukkan jumlah pulpen: 3\n",
            "Masukkan nama barang (ketik 'selesai' untuk  berhenti): selesai\n",
            "\n",
            "===== Struk Belanja =====\n",
            "Total Belanja : Rp 115000.0\n"
          ]
        }
      ]
    },
    {
      "cell_type": "markdown",
      "source": [
        "# **PENUGASAN**"
      ],
      "metadata": {
        "id": "IR1bq0JC_0QF"
      }
    },
    {
      "cell_type": "markdown",
      "source": [
        "**TUGAS 1**"
      ],
      "metadata": {
        "id": "izAQOtS-_66G"
      }
    },
    {
      "cell_type": "code",
      "execution_count": null,
      "metadata": {
        "colab": {
          "base_uri": "https://localhost:8080/"
        },
        "id": "3kxA4cKoApFz",
        "outputId": "30d36473-79f4-49a7-a8a1-66656bedeab5"
      },
      "outputs": [
        {
          "output_type": "stream",
          "name": "stdout",
          "text": [
            "3\n",
            "6\n",
            "9\n",
            "12\n",
            "15\n",
            "18\n",
            "21\n",
            "24\n",
            "27\n",
            "30\n"
          ]
        }
      ],
      "source": [
        "for i in range(3, 31, 3):\n",
        "  print(i)"
      ]
    },
    {
      "cell_type": "markdown",
      "source": [
        "**TUGAS 2**"
      ],
      "metadata": {
        "id": "HlgM82RJBSso"
      }
    },
    {
      "cell_type": "code",
      "source": [
        "try:\n",
        "    angka = int(input(\"Masukkan sebuah bilangan bulat: \"))\n",
        "    angka_bulat = angka\n",
        "    faktorial = 1\n",
        "    if angka < 0:\n",
        "        print(\"Faktorial tidak terdefinisi untuk bilangan negatif.\")\n",
        "    elif angka == 0:\n",
        "        print(f\"Faktorial dari 0 adalah 1\")\n",
        "    else:\n",
        "        while angka > 0:\n",
        "            faktorial = faktorial * angka\n",
        "            angka = angka - 1\n",
        "        print(f\"Faktorial dari {angka_bulat} adalah {faktorial}\")\n",
        "\n",
        "except Error:\n",
        "    print(\"Input tidak valid. Harap masukkan sebuah angka.\")"
      ],
      "metadata": {
        "colab": {
          "base_uri": "https://localhost:8080/"
        },
        "id": "LJSfJ-d3BW_s",
        "outputId": "bb329562-576d-4658-cb08-282db8fb5164"
      },
      "execution_count": null,
      "outputs": [
        {
          "output_type": "stream",
          "name": "stdout",
          "text": [
            "Masukkan sebuah bilangan bulat: 7\n",
            "Faktorial dari 7 adalah 5040\n"
          ]
        }
      ]
    },
    {
      "cell_type": "markdown",
      "source": [
        "**TUGAS 3**"
      ],
      "metadata": {
        "id": "fRwbAAsIBTpw"
      }
    },
    {
      "cell_type": "code",
      "source": [],
      "metadata": {
        "id": "mz2F41dGD1uu"
      },
      "execution_count": null,
      "outputs": []
    },
    {
      "cell_type": "code",
      "source": [
        "tinggi = 5\n",
        "\n",
        "for i in range(5):\n",
        "    for j in range(5 - i):\n",
        "        print(\"*\", end=\"\")\n",
        "\n",
        "    print()"
      ],
      "metadata": {
        "colab": {
          "base_uri": "https://localhost:8080/"
        },
        "outputId": "dfcff701-5134-4580-d337-d9f9398d97cb",
        "id": "ImO9D_iYEN2I"
      },
      "execution_count": null,
      "outputs": [
        {
          "output_type": "stream",
          "name": "stdout",
          "text": [
            "*****\n",
            "****\n",
            "***\n",
            "**\n",
            "*\n"
          ]
        }
      ]
    },
    {
      "cell_type": "markdown",
      "source": [
        "**TUGAS 4**"
      ],
      "metadata": {
        "id": "OYc1cc_JBTv3"
      }
    },
    {
      "cell_type": "code",
      "source": [
        "angka = int(input(\"Masukkan angka untuk mengecek bilangan prima: \"))\n",
        "\n",
        "if angka > 1:\n",
        "  for i in range(2, angka):\n",
        "    if angka % i == 0:\n",
        "      print(\"Bukan bilangan prima\")\n",
        "      break\n",
        "  else:\n",
        "    print(angka, \"Merupakan bilangan prima\")\n",
        "\n",
        "else:\n",
        "  print(\"Bukan bilangan prima\")"
      ],
      "metadata": {
        "colab": {
          "base_uri": "https://localhost:8080/"
        },
        "id": "CZ8uQ7DBF_7H",
        "outputId": "82cfe751-f0dc-4b2b-f807-6ba2707e9ec0"
      },
      "execution_count": null,
      "outputs": [
        {
          "output_type": "stream",
          "name": "stdout",
          "text": [
            "Masukkan angka untuk mengecek bilangan prima: 2\n",
            "2 Merupakan bilangan prima\n"
          ]
        }
      ]
    },
    {
      "cell_type": "markdown",
      "source": [
        "**TUGAS 5**"
      ],
      "metadata": {
        "id": "fWgCZvcYBT0o"
      }
    },
    {
      "cell_type": "code",
      "source": [
        "for i in range(1, 21):\n",
        "  if i % 2 == 1:\n",
        "    continue\n",
        "  print(i)"
      ],
      "metadata": {
        "colab": {
          "base_uri": "https://localhost:8080/"
        },
        "id": "7ub5mGkRGQgU",
        "outputId": "45b6e152-3e40-4864-f4fc-42e2d3a30012"
      },
      "execution_count": null,
      "outputs": [
        {
          "output_type": "stream",
          "name": "stdout",
          "text": [
            "2\n",
            "4\n",
            "6\n",
            "8\n",
            "10\n",
            "12\n",
            "14\n",
            "16\n",
            "18\n",
            "20\n"
          ]
        }
      ]
    },
    {
      "cell_type": "markdown",
      "source": [
        "**TUGAS 6**"
      ],
      "metadata": {
        "id": "PA6fL8snBULr"
      }
    },
    {
      "cell_type": "code",
      "source": [
        "data = {\"Nama\": \"Budi\", \"Umur\": 21, \"Prodi\": \"Teknik Komputer\"}\n",
        "\n",
        "for k, v in data.items():\n",
        "  print(k, \":\", v)"
      ],
      "metadata": {
        "colab": {
          "base_uri": "https://localhost:8080/"
        },
        "id": "GnlIZVMbGtte",
        "outputId": "1e590f72-ea01-4c17-80ba-7059c6afd45b"
      },
      "execution_count": null,
      "outputs": [
        {
          "output_type": "stream",
          "name": "stdout",
          "text": [
            "Nama : Budi\n",
            "Umur : 21\n",
            "Prodi : Teknik Komputer\n"
          ]
        }
      ]
    },
    {
      "cell_type": "markdown",
      "source": [
        "**TUGAS 7**"
      ],
      "metadata": {
        "id": "HaJnX0D3Gm58"
      }
    },
    {
      "cell_type": "code",
      "source": [
        "daftar = [\"Buku\", \"Pulpen\", \"Tas\"]\n",
        "\n",
        "for i, nama in enumerate(daftar, start=1):\n",
        "  print(i, nama)"
      ],
      "metadata": {
        "colab": {
          "base_uri": "https://localhost:8080/"
        },
        "id": "2E4AliW7HYDS",
        "outputId": "91db67c6-1f4f-4b98-e9f8-38f666bd0c66"
      },
      "execution_count": null,
      "outputs": [
        {
          "output_type": "stream",
          "name": "stdout",
          "text": [
            "1 Buku\n",
            "2 Pulpen\n",
            "3 Tas\n"
          ]
        }
      ]
    },
    {
      "cell_type": "markdown",
      "source": [
        "**TUGAS 8**"
      ],
      "metadata": {
        "id": "fXqZ98xqGm-s"
      }
    },
    {
      "cell_type": "code",
      "source": [
        "total = 0\n",
        "\n",
        "while True:\n",
        "  barang = input(\"Masukkan nama barang (Ketik 'selesai' untuk berhenti): \")\n",
        "  if barang.lower() == \"selesai\":\n",
        "    break\n",
        "  harga = float(input(f\"Masukkan harga {barang}: \"))\n",
        "  jumlah = int(input(f\"Masukkan jumlah {barang}: \"))\n",
        "  subtotal = harga * jumlah\n",
        "  total += subtotal\n",
        "  if total >= 200000:\n",
        "    diskon = 0.1\n",
        "  else:\n",
        "    diskon = 0\n",
        "  a_diskon = total - (total * diskon)\n",
        "\n",
        "\n",
        "print(\"\\n===== STRUK =====\")\n",
        "print(f\"\\nSebelum diskon: {total}\")\n",
        "print(f\"Diskon: {diskon* 100} %\")\n",
        "print(f\"Bayar: {a_diskon}\")\n",
        "print(\"\\n=================\")"
      ],
      "metadata": {
        "colab": {
          "base_uri": "https://localhost:8080/"
        },
        "id": "idqmH7YdHg-k",
        "outputId": "7769f51d-cf43-454a-bce6-5cf97301f1eb"
      },
      "execution_count": null,
      "outputs": [
        {
          "output_type": "stream",
          "name": "stdout",
          "text": [
            "Masukkan nama barang (Ketik 'selesai' untuk berhenti): es teh\n",
            "Masukkan harga es teh: 3000\n",
            "Masukkan jumlah es teh: 100\n",
            "Masukkan nama barang (Ketik 'selesai' untuk berhenti): selesai\n",
            "\n",
            "===== STRUK =====\n",
            "\n",
            "Sebelum diskon: 300000.0\n",
            "Diskon: 10.0 %\n",
            "Bayar: 270000.0\n",
            "\n",
            "=================\n"
          ]
        }
      ]
    }
  ]
}

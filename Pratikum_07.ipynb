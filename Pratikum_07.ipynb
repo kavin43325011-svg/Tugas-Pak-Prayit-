{
  "nbformat": 4,
  "nbformat_minor": 0,
  "metadata": {
    "colab": {
      "provenance": [],
      "authorship_tag": "ABX9TyOfcOyZyEbhV++Qgg99gkDj",
      "include_colab_link": true
    },
    "kernelspec": {
      "name": "python3",
      "display_name": "Python 3"
    },
    "language_info": {
      "name": "python"
    }
  },
  "cells": [
    {
      "cell_type": "markdown",
      "metadata": {
        "id": "view-in-github",
        "colab_type": "text"
      },
      "source": [
        "<a href=\"https://colab.research.google.com/github/kavin43325011-svg/Tugas-Pak-Prayit-/blob/main/Pratikum_07.ipynb\" target=\"_parent\"><img src=\"https://colab.research.google.com/assets/colab-badge.svg\" alt=\"Open In Colab\"/></a>"
      ]
    },
    {
      "cell_type": "markdown",
      "source": [
        "# **JOBSHEAT 07**"
      ],
      "metadata": {
        "id": "Llpa20ljoNEB"
      }
    },
    {
      "cell_type": "markdown",
      "source": [
        "**PRATIKUM 1**"
      ],
      "metadata": {
        "id": "Ms942NZ9oqUW"
      }
    },
    {
      "cell_type": "code",
      "source": [
        "koordinat = (7.05, 110.44)\n",
        "print(\"Lintang:\", koordinat[0])\n",
        "print(\"Bujur:\", koordinat[1])\n"
      ],
      "metadata": {
        "id": "AfoQWQpMpu1S"
      },
      "execution_count": null,
      "outputs": []
    },
    {
      "cell_type": "markdown",
      "source": [
        "**PRATIKUM 2**"
      ],
      "metadata": {
        "id": "j5fhIiz2ovAF"
      }
    },
    {
      "cell_type": "code",
      "source": [
        "mahasiswa = {\n",
        "     \"NIM\": \"20251001\",\n",
        "     \"Nama\": \"Andi\",\n",
        "     \"Prodi\": \"TRK\"\n",
        " }\n",
        "print(\"NIM :\", mahasiswa[\"NIM\"])\n",
        "print(\"Nama:\", mahasiswa[\"Nama\"])\n",
        "print(\"Prodi:\", mahasiswa[\"Prodi\"])\n"
      ],
      "metadata": {
        "colab": {
          "base_uri": "https://localhost:8080/"
        },
        "id": "LGL82eHyqvc5",
        "outputId": "46e95806-f1b3-4c15-c94f-2d7ac1cfedc2"
      },
      "execution_count": 2,
      "outputs": [
        {
          "output_type": "stream",
          "name": "stdout",
          "text": [
            "NIM : 20251001\n",
            "Nama: Andi\n",
            "Prodi: TRK\n"
          ]
        }
      ]
    },
    {
      "cell_type": "markdown",
      "source": [
        "**PRATIKUM 3**"
      ],
      "metadata": {
        "id": "wzneuMhzovGq"
      }
    },
    {
      "cell_type": "code",
      "source": [
        "mahasiswa = {\n",
        "    \"NIM\": \"20251001\",\n",
        "    \"Nama\": \"Andi\",\n",
        "    \"Prodi\": \"TRK\"\n",
        " }\n",
        "\n",
        "mahasiswa[\"Umur\"] = 20              # menambah data\n",
        "mahasiswa[\"Prodi\"] = \"Teknik Komputer\"  # memperbarui data\n",
        "del mahasiswa[\"Umur\"]               # menghapus data\n",
        "\n",
        "print(mahasiswa)\n"
      ],
      "metadata": {
        "colab": {
          "base_uri": "https://localhost:8080/"
        },
        "id": "ElvZPB6Otb1Y",
        "outputId": "37840721-d295-4f9c-d642-aa581dc757c1"
      },
      "execution_count": 4,
      "outputs": [
        {
          "output_type": "stream",
          "name": "stdout",
          "text": [
            "{'NIM': '20251001', 'Nama': 'Andi', 'Prodi': 'Teknik Komputer'}\n"
          ]
        }
      ]
    },
    {
      "cell_type": "markdown",
      "source": [
        "**PRATIKUM 4**"
      ],
      "metadata": {
        "id": "4YEo9duFovNL"
      }
    },
    {
      "cell_type": "code",
      "source": [
        "A = {1, 2, 3, 4}\n",
        "B = {3, 4, 5, 6}\n",
        "\n",
        "print(\"Union:\", A | B)\n",
        "print(\"Intersection:\", A & B)\n",
        "print(\"Difference:\", A - B)"
      ],
      "metadata": {
        "colab": {
          "base_uri": "https://localhost:8080/"
        },
        "id": "T_cHanbctoe-",
        "outputId": "e839f251-6ed1-49e6-fb1f-124776400a13"
      },
      "execution_count": 6,
      "outputs": [
        {
          "output_type": "stream",
          "name": "stdout",
          "text": [
            "Union: {1, 2, 3, 4, 5, 6}\n",
            "Intersection: {3, 4}\n",
            "Difference: {1, 2}\n"
          ]
        }
      ]
    },
    {
      "cell_type": "markdown",
      "source": [
        "**PRATIKUM 5**"
      ],
      "metadata": {
        "id": "t2ZsDB7TovUV"
      }
    },
    {
      "cell_type": "code",
      "source": [
        "mhs1 = {\"Algoritma\", \"Matematika\", \"Bahasa Inggris\"}\n",
        "mhs2 = {\"Algoritma\", \"Basis Data\", \"Matematika\"}\n",
        "\n",
        "print(\"Mata kuliah Mhs1:\", mhs1)\n",
        "print(\"Mata kuliah Mhs2:\", mhs2)\n",
        "print(\"Mata kuliah yang sama:\", mhs1 & mhs2)\n"
      ],
      "metadata": {
        "colab": {
          "base_uri": "https://localhost:8080/"
        },
        "id": "p80AfgjHt0Ov",
        "outputId": "a4d9271c-b48c-4f9c-af4b-9cad1507ea18"
      },
      "execution_count": 7,
      "outputs": [
        {
          "output_type": "stream",
          "name": "stdout",
          "text": [
            "Mata kuliah Mhs1: {'Bahasa Inggris', 'Algoritma', 'Matematika'}\n",
            "Mata kuliah Mhs2: {'Algoritma', 'Basis Data', 'Matematika'}\n",
            "Mata kuliah yang sama: {'Algoritma', 'Matematika'}\n"
          ]
        }
      ]
    },
    {
      "cell_type": "markdown",
      "source": [
        "**PRATIKUM 6**"
      ],
      "metadata": {
        "id": "iT6abCNKovbd"
      }
    },
    {
      "cell_type": "code",
      "source": [
        "nilai_mahasiswa = {\n",
        "    \"Andi\": 80,\n",
        "    \"Budi\": 75,\n",
        "    \"Cici\": 90\n",
        "}\n",
        "for nama, nilai in nilai_mahasiswa.items():\n",
        "     print(f\"{nama}: {nilai}\")\n",
        "\n",
        "rata = sum(nilai_mahasiswa.values()) / len(nilai_mahasiswa)\n",
        "print(f\"Rata-rata nilai: {rata:.2f}\")\n"
      ],
      "metadata": {
        "colab": {
          "base_uri": "https://localhost:8080/"
        },
        "id": "nZ93uUgIt_JC",
        "outputId": "376cf399-69a1-4486-d05f-52d67f0bf3bb"
      },
      "execution_count": 10,
      "outputs": [
        {
          "output_type": "stream",
          "name": "stdout",
          "text": [
            "Andi: 80\n",
            "Budi: 75\n",
            "Cici: 90\n",
            "Rata-rata nilai: 81.67\n"
          ]
        }
      ]
    },
    {
      "cell_type": "markdown",
      "source": [
        "# **PENUGASAN**"
      ],
      "metadata": {
        "id": "_rCqOkEvobMg"
      }
    },
    {
      "cell_type": "markdown",
      "source": [
        "**PENUGASAN 1**"
      ],
      "metadata": {
        "id": "aSMcsI9_op6m"
      }
    },
    {
      "cell_type": "code",
      "source": [
        "mahasiswa = (\"Bahlul Ladalia\", 20, \"Teknik Informatika\")\n",
        "\n",
        "print(mahasiswa[0])\n",
        "print(mahasiswa[1])\n",
        "print(mahasiswa[2])\n"
      ],
      "metadata": {
        "colab": {
          "base_uri": "https://localhost:8080/"
        },
        "id": "u9A0gIRwugfr",
        "outputId": "910aac70-7b3f-494e-8f28-72ceac1db5fc"
      },
      "execution_count": 11,
      "outputs": [
        {
          "output_type": "stream",
          "name": "stdout",
          "text": [
            "Bahlul Ladalia\n",
            "20\n",
            "Teknik Informatika\n"
          ]
        }
      ]
    },
    {
      "cell_type": "markdown",
      "source": [
        "**PENUGASAN 2**"
      ],
      "metadata": {
        "id": "mqkwEhkOo41r"
      }
    },
    {
      "cell_type": "code",
      "source": [
        "data = (1, 2, 3)\n",
        "data[0] = 10\n",
        "# Python akan memberikan error karena tuple bersifat immutable, artinya isi atau elemen di dalam tuple tidak dapat diubah setelah dibuat."
      ],
      "metadata": {
        "colab": {
          "base_uri": "https://localhost:8080/",
          "height": 165
        },
        "id": "3dlhjoHWun8I",
        "outputId": "8745f7ff-616b-4a41-8884-74416e32c143"
      },
      "execution_count": 12,
      "outputs": [
        {
          "output_type": "error",
          "ename": "TypeError",
          "evalue": "'tuple' object does not support item assignment",
          "traceback": [
            "\u001b[0;31m---------------------------------------------------------------------------\u001b[0m",
            "\u001b[0;31mTypeError\u001b[0m                                 Traceback (most recent call last)",
            "\u001b[0;32m/tmp/ipython-input-78083849.py\u001b[0m in \u001b[0;36m<cell line: 0>\u001b[0;34m()\u001b[0m\n\u001b[1;32m      1\u001b[0m \u001b[0mdata\u001b[0m \u001b[0;34m=\u001b[0m \u001b[0;34m(\u001b[0m\u001b[0;36m1\u001b[0m\u001b[0;34m,\u001b[0m \u001b[0;36m2\u001b[0m\u001b[0;34m,\u001b[0m \u001b[0;36m3\u001b[0m\u001b[0;34m)\u001b[0m\u001b[0;34m\u001b[0m\u001b[0;34m\u001b[0m\u001b[0m\n\u001b[0;32m----> 2\u001b[0;31m \u001b[0mdata\u001b[0m\u001b[0;34m[\u001b[0m\u001b[0;36m0\u001b[0m\u001b[0;34m]\u001b[0m \u001b[0;34m=\u001b[0m \u001b[0;36m10\u001b[0m\u001b[0;34m\u001b[0m\u001b[0;34m\u001b[0m\u001b[0m\n\u001b[0m",
            "\u001b[0;31mTypeError\u001b[0m: 'tuple' object does not support item assignment"
          ]
        }
      ]
    },
    {
      "cell_type": "markdown",
      "source": [
        "**PENUGASAN 3**"
      ],
      "metadata": {
        "id": "XpRNTyJGo47S"
      }
    },
    {
      "cell_type": "code",
      "source": [
        "buku = {\n",
        "    \"Judul\": \"Algoritma\",\n",
        "    \"Penulis\": \"Munir\",\n",
        "    \"Tahun\": 2021\n",
        "}\n",
        "\n",
        "print(buku[\"Judul\"])\n",
        "print(buku[\"Penulis\"])\n",
        "print(buku[\"Tahun\"])\n"
      ],
      "metadata": {
        "colab": {
          "base_uri": "https://localhost:8080/"
        },
        "id": "Z-xf837svClc",
        "outputId": "d209ba66-b32c-4042-b12d-02889e055881"
      },
      "execution_count": 13,
      "outputs": [
        {
          "output_type": "stream",
          "name": "stdout",
          "text": [
            "Algoritma\n",
            "Munir\n",
            "2021\n"
          ]
        }
      ]
    },
    {
      "cell_type": "markdown",
      "source": [
        "**PENUGASAN 4**"
      ],
      "metadata": {
        "id": "ItR0ze47o5AZ"
      }
    },
    {
      "cell_type": "code",
      "source": [
        "dosen = {\n",
        "    \"NIP\": \"12345\",\n",
        "    \"Nama\": \"Budi\",\n",
        "    \"Prodi\": \"TRK\"\n",
        "}\n",
        "\n",
        "dosen[\"Umur\"] = 40\n",
        "dosen[\"Prodi\"] = \"Teknik Komputer\"\n",
        "del dosen[\"Umur\"]\n",
        "\n",
        "print(dosen)\n"
      ],
      "metadata": {
        "colab": {
          "base_uri": "https://localhost:8080/"
        },
        "id": "_6l9hgDvvN8g",
        "outputId": "6ecba714-34b4-4851-8e02-b48d4468c3a1"
      },
      "execution_count": 14,
      "outputs": [
        {
          "output_type": "stream",
          "name": "stdout",
          "text": [
            "{'NIP': '12345', 'Nama': 'Budi', 'Prodi': 'Teknik Komputer'}\n"
          ]
        }
      ]
    },
    {
      "cell_type": "markdown",
      "source": [
        "**PENUGASAN 5**"
      ],
      "metadata": {
        "id": "8ngDPpdoo5FV"
      }
    },
    {
      "cell_type": "code",
      "source": [
        "A = {\"Matematika\", \"Algoritma\", \"Bahasa Inggris\"}\n",
        "B = {\"Algoritma\", \"Basis Data\", \"Matematika\"}\n",
        "\n",
        "print(\"Union:\", A | B)\n",
        "print(\"Intersection:\", A & B)\n",
        "print(\"Difference:\", A - B)\n"
      ],
      "metadata": {
        "colab": {
          "base_uri": "https://localhost:8080/"
        },
        "id": "r4m5BXi7vil6",
        "outputId": "cc0d6715-d426-4c5b-bf25-80a5385fecec"
      },
      "execution_count": 15,
      "outputs": [
        {
          "output_type": "stream",
          "name": "stdout",
          "text": [
            "Union: {'Algoritma', 'Matematika', 'Bahasa Inggris', 'Basis Data'}\n",
            "Intersection: {'Algoritma', 'Matematika'}\n",
            "Difference: {'Bahasa Inggris'}\n"
          ]
        }
      ]
    },
    {
      "cell_type": "markdown",
      "source": [
        "**PENUGASAN 6**"
      ],
      "metadata": {
        "id": "oNhiyl__o5KF"
      }
    },
    {
      "cell_type": "code",
      "source": [
        "nilai = {\n",
        "    \"Andi\": 85,\n",
        "    \"Budi\": 90,\n",
        "    \"Cici\": 78\n",
        "}\n",
        "\n",
        "for nama, skor in nilai.items():\n",
        "    print(nama, \":\", skor)\n",
        "\n",
        "rata = sum(nilai.values()) / len(nilai)\n",
        "print(\"Rata-rata nilai =\", rata)\n"
      ],
      "metadata": {
        "colab": {
          "base_uri": "https://localhost:8080/"
        },
        "id": "vjg-5-87vz5F",
        "outputId": "1cc3d711-164e-4637-8857-467ea8d04c4b"
      },
      "execution_count": 16,
      "outputs": [
        {
          "output_type": "stream",
          "name": "stdout",
          "text": [
            "Andi : 85\n",
            "Budi : 90\n",
            "Cici : 78\n",
            "Rata-rata nilai = 84.33333333333333\n"
          ]
        }
      ]
    },
    {
      "cell_type": "markdown",
      "source": [
        "**PENUGASAN 7**"
      ],
      "metadata": {
        "id": "Rc4trEm-o5O8"
      }
    },
    {
      "cell_type": "code",
      "source": [
        "klubA = {\"Andi\", \"Budi\", \"Cici\"}\n",
        "klubB = {\"Cici\", \"Deni\", \"Eka\"}\n",
        "\n",
        "print(\"Seluruh anggota (union):\", klubA | klubB)\n",
        "print(\"Anggota di kedua klub (intersection):\", klubA & klubB)\n",
        "print(\"Anggota hanya di Klub A (difference):\", klubA - klubB)\n"
      ],
      "metadata": {
        "colab": {
          "base_uri": "https://localhost:8080/"
        },
        "id": "XuRgdysCv_yb",
        "outputId": "b769a47f-dcdf-451f-efe8-31b5da9b4341"
      },
      "execution_count": 17,
      "outputs": [
        {
          "output_type": "stream",
          "name": "stdout",
          "text": [
            "Seluruh anggota (union): {'Eka', 'Andi', 'Deni', 'Cici', 'Budi'}\n",
            "Anggota di kedua klub (intersection): {'Cici'}\n",
            "Anggota hanya di Klub A (difference): {'Andi', 'Budi'}\n"
          ]
        }
      ]
    }
  ]
}
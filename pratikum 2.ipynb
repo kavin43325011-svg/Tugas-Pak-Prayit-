{
  "nbformat": 4,
  "nbformat_minor": 0,
  "metadata": {
    "colab": {
      "provenance": [],
      "include_colab_link": true
    },
    "kernelspec": {
      "name": "python3",
      "display_name": "Python 3"
    },
    "language_info": {
      "name": "python"
    }
  },
  "cells": [
    {
      "cell_type": "markdown",
      "metadata": {
        "id": "view-in-github",
        "colab_type": "text"
      },
      "source": [
        "<a href=\"https://colab.research.google.com/github/kavin43325011-svg/Tugas-Pak-Prayit-/blob/main/pratikum%202.ipynb\" target=\"_parent\"><img src=\"https://colab.research.google.com/assets/colab-badge.svg\" alt=\"Open In Colab\"/></a>"
      ]
    },
    {
      "cell_type": "markdown",
      "source": [
        "# **Praktikum 02**"
      ],
      "metadata": {
        "id": "90MsJyxFXNko"
      }
    },
    {
      "cell_type": "markdown",
      "source": [
        "### Praktikum 01 - Pengenalan Variabel dan Tipe Data"
      ],
      "metadata": {
        "id": "d3ROtxUB70E1"
      }
    },
    {
      "cell_type": "code",
      "source": [
        "# Integer\n",
        "umur = 19\n",
        "print (\"Umur:\", umur, \"->\", type (umur))\n",
        "\n",
        "# Float\n",
        "tinggi = 184.05\n",
        "print (\"Tinggi:\", tinggi, \"->\", type (tinggi))\n",
        "\n",
        "# String\n",
        "nama = \"indra\"\n",
        "print (\"Nama:\", nama, \"->\", type(nama))\n",
        "\n",
        "# Boolean\n",
        "is_mahasiswa = False\n",
        "print(\"Status Mahasiswa:\", is_mahasiswa, \"->\", type(is_mahasiswa))\n",
        "\n",
        "# List\n",
        "nilai = [80, 85, 100]\n",
        "print (\"Nilai:\", nilai, \"->\", type(nilai))\n",
        "\n",
        "# Tuple\n",
        "koordinat = (2246, 4456)\n",
        "print(\"koordinat:\", koordinat, \"->\", type(koordinat))\n",
        "\n",
        "# Dictionary\n",
        "mahasiswa = {\"nama\": \"indra\", \"umur\": 19, \"prodi\": \"TRK\"}\n",
        "print(\"Data Mahasiswa:\", mahasiswa, \"->\", type(mahasiswa))\n",
        "\n",
        "# Set\n",
        "hobi =  {\"touring\", \"olahraga\", \"musik\"}\n",
        "print(\"Hobi:\", hobi, \"->\", type(hobi))"
      ],
      "metadata": {
        "colab": {
          "base_uri": "https://localhost:8080/"
        },
        "id": "-AiaALUh74Wl",
        "outputId": "80a35461-df65-4bb8-e988-68dbbbd4e618"
      },
      "execution_count": 1,
      "outputs": [
        {
          "output_type": "stream",
          "name": "stdout",
          "text": [
            "Umur: 19 -> <class 'int'>\n",
            "Tinggi: 184.05 -> <class 'float'>\n",
            "Nama: indra -> <class 'str'>\n",
            "Status Mahasiswa: False -> <class 'bool'>\n",
            "Nilai: [80, 85, 100] -> <class 'list'>\n",
            "koordinat: (2246, 4456) -> <class 'tuple'>\n",
            "Data Mahasiswa: {'nama': 'Andi', 'umur': 20, 'prodi': 'TRK'} -> <class 'dict'>\n",
            "Hobi: {'membaca', 'musik', 'olahraga'} -> <class 'set'>\n"
          ]
        }
      ]
    },
    {
      "cell_type": "code",
      "source": [],
      "metadata": {
        "id": "FKmRVIfMXPPO"
      },
      "execution_count": null,
      "outputs": []
    },
    {
      "cell_type": "markdown",
      "source": [
        "### Praktikum 02 - Input dan Output Dasar"
      ],
      "metadata": {
        "id": "F_bMiDmZ73FT"
      }
    },
    {
      "cell_type": "code",
      "source": [
        "# Input string\n",
        "nama = input (\"Masukkan nama Anda: \")\n",
        "\n",
        "# Input integer\n",
        "umur = int(input(\"Masukkan umur Anda: \"))\n",
        "\n",
        "# Input float\n",
        "tinggi  = float(input(\"Masukkan tinggi badan (cm): \"))\n",
        "\n",
        "# Output standar\n",
        "print(\"Halo,\", nama,\"umur Anda:\", umur, \"tahun, tinggi:\", tinggi, \"cm\")\n",
        "\n",
        "# Output dengan Format ()\n",
        "print(\"Halo {0}, umur Anda {1} tahun, tinggi {2} cm\" .format(nama, umur, tinggi))\n",
        "\n",
        "# Output dengan f-string\n",
        "print(f\"Halo {nama}, umur Anda {umur} tahun, tinggi {tinggi} cm\")"
      ],
      "metadata": {
        "colab": {
          "base_uri": "https://localhost:8080/"
        },
        "id": "YR4hkKGt_EMq",
        "outputId": "fb36306d-f3ea-4f02-ee18-e7a3e7188b80"
      },
      "execution_count": 2,
      "outputs": [
        {
          "output_type": "stream",
          "name": "stdout",
          "text": [
            "Masukkan nama Anda: kavindra vpm\n",
            "Masukkan umur Anda: 19\n",
            "Masukkan tinggi badan (cm): 184\n",
            "Halo, kavindra vpm umur Anda: 19 tahun, tinggi: 184.0 cm\n",
            "Halo kavindra vpm, umur Anda 19 tahun, tinggi 184.0 cm\n",
            "Halo kavindra vpm, umur Anda 19 tahun, tinggi 184.0 cm\n"
          ]
        }
      ]
    },
    {
      "cell_type": "markdown",
      "source": [
        "### Praktikum 03 - Operator Aritmatika"
      ],
      "metadata": {
        "id": "ql717RhnCWMo"
      }
    },
    {
      "cell_type": "code",
      "source": [
        "a = 90\n",
        "b = 8\n",
        "\n",
        "print(\"a + b =\", a + b)\n",
        "print(\"a - b =\", a - b)\n",
        "print(\"a * b =\", a * b)\n",
        "print(\"a / b =\", a / b)\n",
        "print( \"a // b =\", a // b)\n",
        "print(\"a % b =\", a % b)\n",
        "print(\"a ** b =\", a ** b)\n",
        "print(\"praktek ini menunjukan pyhton dapat menyelesaikan persoalan matematika\")"
      ],
      "metadata": {
        "colab": {
          "base_uri": "https://localhost:8080/"
        },
        "id": "5oO4-7CUCfP7",
        "outputId": "121e1544-7fe9-4dca-e175-246ccc7755d4"
      },
      "execution_count": 3,
      "outputs": [
        {
          "output_type": "stream",
          "name": "stdout",
          "text": [
            "a + b = 98\n",
            "a - b = 82\n",
            "a * b = 720\n",
            "a / b = 11.25\n",
            "a // b = 11\n",
            "a % b = 2\n",
            "a ** b = 4304672100000000\n",
            "praktek ini menunjukan pyhton dapat menyelesaikan persoalan matematika\n"
          ]
        }
      ]
    },
    {
      "cell_type": "markdown",
      "source": [
        "### Praktikum 04 - Operator Relasional"
      ],
      "metadata": {
        "id": "HJmq96UXFjgU"
      }
    },
    {
      "cell_type": "code",
      "source": [
        "x = 101\n",
        "y = 15\n",
        "\n",
        "print (\"x == y :\", x == y)\n",
        "print (\"x != y :\", x != y)\n",
        "print (\"x < y :\", x < y)\n",
        "print (\"x <= y :\", x <= y)\n",
        "print (\"x >= y :\", x >= y)\n",
        "print(\"Dalam kehidupan nyata, operator relasional bisa dipakai untuk mengecek apakah nilai ujian > 60, atau apakah kehadiran mahasiswa memenuhi batas minimal\")"
      ],
      "metadata": {
        "colab": {
          "base_uri": "https://localhost:8080/"
        },
        "id": "8_nGJ_9UFrks",
        "outputId": "83597542-abaa-439c-eb7c-e2eb7ae3ad14"
      },
      "execution_count": 4,
      "outputs": [
        {
          "output_type": "stream",
          "name": "stdout",
          "text": [
            "x == y : False\n",
            "x != y : True\n",
            "x < y : False\n",
            "x <= y : False\n",
            "x >= y : True\n",
            "Dalam kehidupan nyata, operator relasional bisa dipakai untuk mengecek apakah nilai ujian > 60, atau apakah kehadiran mahasiswa memenuhi batas minimal\n"
          ]
        }
      ]
    },
    {
      "cell_type": "markdown",
      "source": [
        "### Praktikum 05 - Operator Logika dengan Studi Kasus Nyata"
      ],
      "metadata": {
        "id": "Vi7IYFI1OQS_"
      }
    },
    {
      "cell_type": "code",
      "source": [
        "# Operator logika dasar\n",
        "a = True\n",
        "b = False\n",
        "\n",
        "print(\"a and b  =\", a and b)\n",
        "print(\"a or b   =\", a or b)\n",
        "print(\"not a    =\", not a)\n",
        "\n",
        "# Studi kasus nyata: kelulusan\n",
        "nilai = int (input(\"Masukkan nilai ujian: \"))\n",
        "hadir = int(input(\"Masukkan jumlah kehadiran: \"))\n",
        "\n",
        "lulus_nilai = nilai >= 60\n",
        "lulus_hadir = hadir >= 12 #dari 16 pertemuan\n",
        "\n",
        "if lulus_nilai and lulus_hadir:\n",
        "    print(\"Status: LULUS\")\n",
        "else:\n",
        "    print(\"Status: TIDAK LULUS\")"
      ],
      "metadata": {
        "colab": {
          "base_uri": "https://localhost:8080/"
        },
        "id": "MB4_aJCsOZCz",
        "outputId": "086ba8f7-8284-4827-cdc2-d20df075d744"
      },
      "execution_count": 5,
      "outputs": [
        {
          "output_type": "stream",
          "name": "stdout",
          "text": [
            "a and b  = False\n",
            "a or b   = True\n",
            "not a    = False\n",
            "Masukkan nilai ujian: 90\n",
            "Masukkan jumlah kehadiran: 13\n",
            "Status: LULUS\n"
          ]
        }
      ]
    },
    {
      "cell_type": "markdown",
      "source": [
        "### Praktikum 06 - Program Kasir Sederhana"
      ],
      "metadata": {
        "id": "qZ_XxgF6QQp3"
      }
    },
    {
      "cell_type": "code",
      "source": [
        "barang  = input(\"Masukkan nama barang: \")\n",
        "harga   = float(input(\"Masukkan harga barang: \"))\n",
        "jumlah  = int(input(\"Masukkan jumlah barang: \"))\n",
        "\n",
        "total   = harga * jumlah\n",
        "\n",
        "# Aturan diskon\n",
        "if    total >= 1000000:\n",
        "      diskon = 0.4\n",
        "elif  total >= 500000:\n",
        "      diskon = 0.3\n",
        "else:\n",
        "      diskon = 0\n",
        "\n",
        "potongan  = total * diskon\n",
        "bayar     = total - potongan\n",
        "\n",
        "print(\"\\n===== Struk Belanja =====\")\n",
        "print(f\"Barang : {barang}\")\n",
        "print(f\"Jumlah : {jumlah}\")\n",
        "print(f\"Total  : Rp {total}\")\n",
        "print(f\"Diskon : {diskon * 100}%\")\n",
        "print(f\"Bayar  : Rp {bayar}\")"
      ],
      "metadata": {
        "colab": {
          "base_uri": "https://localhost:8080/"
        },
        "id": "_PfrVBV6QWoD",
        "outputId": "5d976122-2b4f-4a38-8b09-18c829a8445c"
      },
      "execution_count": 8,
      "outputs": [
        {
          "output_type": "stream",
          "name": "stdout",
          "text": [
            "Masukkan nama barang: handphone\n",
            "Masukkan harga barang: 1500000\n",
            "Masukkan jumlah barang: 1\n",
            "\n",
            "===== Struk Belanja =====\n",
            "Barang : handphone\n",
            "Jumlah : 1\n",
            "Total  : Rp 1500000.0\n",
            "Diskon : 40.0%\n",
            "Bayar  : Rp 900000.0\n"
          ]
        }
      ]
    },
    {
      "cell_type": "markdown",
      "source": [
        "# **Penugasan**"
      ],
      "metadata": {
        "id": "7k8r1eZaWYeM"
      }
    },
    {
      "cell_type": "markdown",
      "source": [
        "### Identitas Mahasiswa"
      ],
      "metadata": {
        "id": "F6-9v8cpXjM1"
      }
    },
    {
      "cell_type": "code",
      "source": [
        "# 1. Mengambil Input\n",
        "nama = input(\"Masukkan nama Mahasiswa: \")\n",
        "umur = int(input(\"Masukkan Umur Mahasiswa: \"))\n",
        "tinggi = float(input(\"Masukkan Tinggi Mahasiswa (cm): \"))\n",
        "status_in = input(\"Apakah Mahasiswa aktif? (y/n): \")\n",
        "\n",
        "# 2. Konversi boolean\n",
        "status = \"Aktif\" if status_in.lower() == \"y\" else \"Tidak Aktif\"\n",
        "\n",
        "# 3. Menampilkan output\n",
        "print(\"\\n================================\")\n",
        "print(\"     IDENTITAS MAHASISWA\")\n",
        "print(\"================================\")\n",
        "print(f\"Nama Lengkap : {nama}\")\n",
        "print(f\"Umur         : {umur} tahun\")\n",
        "print(f\"Tinggi Badan : {tinggi} cm\")\n",
        "print(f\"Status       : {status}\")\n",
        "print(\"================================\")\n"
      ],
      "metadata": {
        "colab": {
          "base_uri": "https://localhost:8080/"
        },
        "id": "-WMuvfaHX7QT",
        "outputId": "22646a9b-f465-4820-f2aa-646968a78858"
      },
      "execution_count": 9,
      "outputs": [
        {
          "output_type": "stream",
          "name": "stdout",
          "text": [
            "Masukkan nama Mahasiswa: mojinkino\n",
            "Masukkan Umur Mahasiswa: 19\n",
            "Masukkan Tinggi Mahasiswa (cm): 184\n",
            "Apakah Mahasiswa aktif? (y/n): n\n",
            "\n",
            "================================\n",
            "     IDENTITAS MAHASISWA\n",
            "================================\n",
            "Nama Lengkap : mojinkino\n",
            "Umur         : 19 tahun\n",
            "Tinggi Badan : 184.0 cm\n",
            "Status       : Tidak Aktif\n",
            "================================\n"
          ]
        }
      ]
    },
    {
      "cell_type": "markdown",
      "source": [
        "### Operasi Aritmatika"
      ],
      "metadata": {
        "id": "-gHiB0fcW_CD"
      }
    },
    {
      "cell_type": "code",
      "source": [
        "# 1. Mengambil Input\n",
        "a = (int(input(\"Masukkan nilai a: \")))\n",
        "b = (int(input(\"Masukkan nilai b: \")))\n",
        "\n",
        "# 2. Operasi dan output\n",
        "print(a, \"+\", b, \"=\", a + b)\n",
        "print(a, \"-\", b, \"=\", a - b)\n",
        "print(a, \"*\", b, \"=\", a * b)\n",
        "print(a, \"/\", b, \"=\", a / b)\n",
        "print(a, \"//\", b, \"=\", a // b)\n",
        "print(a, \"%\", b, \"=\", a % b)\n",
        "print(a, \"**\", b, \"=\", a ** b)"
      ],
      "metadata": {
        "colab": {
          "base_uri": "https://localhost:8080/"
        },
        "id": "ykE6uJt4gRxy",
        "outputId": "d0e0bdde-ae93-478f-9bf5-3a2233136cfd"
      },
      "execution_count": 10,
      "outputs": [
        {
          "output_type": "stream",
          "name": "stdout",
          "text": [
            "Masukkan nilai a: 40\n",
            "Masukkan nilai b: 7\n",
            "40 + 7 = 47\n",
            "40 - 7 = 33\n",
            "40 * 7 = 280\n",
            "40 / 7 = 5.714285714285714\n",
            "40 // 7 = 5\n",
            "40 % 7 = 5\n",
            "40 ** 7 = 163840000000\n"
          ]
        }
      ]
    },
    {
      "cell_type": "markdown",
      "source": [
        "### Konversi Nilai"
      ],
      "metadata": {
        "id": "7XMdE985XqPl"
      }
    },
    {
      "cell_type": "code",
      "source": [
        "  # Mengambil Input (float)\n",
        "nilai_float = float(input(\"Masukkan sebuah angka desimal (contoh: 75.836): \"))\n",
        "\n",
        "  # 1. Konversi float ke integer (menghilangkan desimal)\n",
        "nilai_integer = int(nilai_float)\n",
        "\n",
        "  # 2. Konversi float ke string (menjadi teks)\n",
        "nilai_string = str(nilai_float)\n",
        "\n",
        "  # 3. Pembulatan 2 digit di belakang koma\n",
        "nilai_bulat = round(nilai_float, 2)\n",
        "\n",
        "  # Menampilkan semua hasil dengan format yang rapi\n",
        "print(\"\\n---------- HASIL KONVERSI & PEMBULATAN ----------\")\n",
        "print(f\"Nilai Asli (float)      : {nilai_float}\")\n",
        "print(f\"Dikonversi ke Integer   : {nilai_integer}\")\n",
        "print(f\"Dikonversi ke String    : '{nilai_string}'\")\n",
        "print(f\"Dibulatkan (2 desimal)  : {nilai_bulat}\")\n",
        "print(\"-----------------------------------------------\")"
      ],
      "metadata": {
        "id": "YdM1-40ulpPN",
        "outputId": "55acd21c-0248-44be-ad65-22bdb799e832",
        "colab": {
          "base_uri": "https://localhost:8080/"
        }
      },
      "execution_count": 11,
      "outputs": [
        {
          "output_type": "stream",
          "name": "stdout",
          "text": [
            "Masukkan sebuah angka desimal (contoh: 75.836): 54.789\n",
            "\n",
            "---------- HASIL KONVERSI & PEMBULATAN ----------\n",
            "Nilai Asli (float)      : 54.789\n",
            "Dikonversi ke Integer   : 54\n",
            "Dikonversi ke String    : '54.789'\n",
            "Dibulatkan (2 desimal)  : 54.79\n",
            "-----------------------------------------------\n"
          ]
        }
      ]
    },
    {
      "cell_type": "markdown",
      "source": [
        "### Operator Relasional"
      ],
      "metadata": {
        "id": "vE9j4gluX0W5"
      }
    },
    {
      "cell_type": "code",
      "source": [
        "a = float(input(\"Masukkan nilai a: \"))\n",
        "b = float(input(\"Masukkan nilai b: \"))\n",
        "\n",
        "# 2. Menampilkan hasil perbandingan menggunakan semua operator relasional dengan format f-string\n",
        "print(\"\\n---------- HASIL PERBANDINGAN ----------\")\n",
        "print(f\"{a} == {b} : {a == b}\")\n",
        "print(f\"{a} != {b} : {a != b}\")\n",
        "print(f\"{a} > {b}  : {a > b}\")\n",
        "print(f\"{a} < {b}  : {a < b}\")\n",
        "print(f\"{a} >= {b} : {a >= b}\")\n",
        "print(f\"{a} <= {b} : {a <= b}\")\n",
        "print(\"--------------------------------------\")"
      ],
      "metadata": {
        "colab": {
          "base_uri": "https://localhost:8080/"
        },
        "id": "rIBRb5hZWbRO",
        "outputId": "2336677f-fa5e-4075-81d3-047886bc744c"
      },
      "execution_count": 12,
      "outputs": [
        {
          "output_type": "stream",
          "name": "stdout",
          "text": [
            "Masukkan nilai a: 12\n",
            "Masukkan nilai b: 3\n",
            "\n",
            "---------- HASIL PERBANDINGAN ----------\n",
            "12.0 == 3.0 : False\n",
            "12.0 != 3.0 : True\n",
            "12.0 > 3.0  : True\n",
            "12.0 < 3.0  : False\n",
            "12.0 >= 3.0 : True\n",
            "12.0 <= 3.0 : False\n",
            "--------------------------------------\n"
          ]
        }
      ]
    }
  ]
}
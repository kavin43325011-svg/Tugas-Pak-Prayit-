{
  "nbformat": 4,
  "nbformat_minor": 0,
  "metadata": {
    "colab": {
      "provenance": [],
      "include_colab_link": true
    },
    "kernelspec": {
      "name": "python3",
      "display_name": "Python 3"
    },
    "language_info": {
      "name": "python"
    }
  },
  "cells": [
    {
      "cell_type": "markdown",
      "metadata": {
        "id": "view-in-github",
        "colab_type": "text"
      },
      "source": [
        "<a href=\"https://colab.research.google.com/github/kavin43325011-svg/Tugas-Pak-Prayit-/blob/main/Pratikum_3.ipynb\" target=\"_parent\"><img src=\"https://colab.research.google.com/assets/colab-badge.svg\" alt=\"Open In Colab\"/></a>"
      ]
    },
    {
      "cell_type": "markdown",
      "source": [
        "# **PRATIKUM JOBSHEET 3**"
      ],
      "metadata": {
        "id": "xFNZcrp7hmzx"
      }
    },
    {
      "cell_type": "markdown",
      "source": [
        "#Praktikum 01"
      ],
      "metadata": {
        "id": "aUHst_ZghWC-"
      }
    },
    {
      "cell_type": "code",
      "execution_count": null,
      "metadata": {
        "id": "aEotRylyhRUH",
        "outputId": "770ec36a-9200-4c22-b079-adae23fca667",
        "colab": {
          "base_uri": "https://localhost:8080/"
        }
      },
      "outputs": [
        {
          "output_type": "stream",
          "name": "stdout",
          "text": [
            "Masukkan nilai mahasiswa: 85\n",
            "Lulus\n"
          ]
        }
      ],
      "source": [
        "nilai = int(input(\"Masukkan nilai mahasiswa: \"))\n",
        "\n",
        "if nilai >= 60:\n",
        "  print(\"Lulus\")"
      ]
    },
    {
      "cell_type": "markdown",
      "source": [
        "#Praktikum 02\n",
        "\n",
        "\n"
      ],
      "metadata": {
        "id": "vSuVkfZp9Tdi"
      }
    },
    {
      "cell_type": "code",
      "source": [
        "nilai = int(input(\"Masukkan nilai mahasiswa: \"))\n",
        "\n",
        "if nilai >= 60:\n",
        "  print(\"Lulus\")\n",
        "else:\n",
        "  print(\"Tidak Lulus\")"
      ],
      "metadata": {
        "id": "WRbeJD2a9bVb",
        "outputId": "f22aa93c-4b3d-47bf-86aa-d76b002e2423",
        "colab": {
          "base_uri": "https://localhost:8080/"
        }
      },
      "execution_count": null,
      "outputs": [
        {
          "output_type": "stream",
          "name": "stdout",
          "text": [
            "Masukkan nilai mahasiswa: 59\n",
            "Tidak Lulus\n"
          ]
        }
      ]
    },
    {
      "cell_type": "markdown",
      "source": [
        "#Praktikum 03"
      ],
      "metadata": {
        "id": "v_1FGkQR98TY"
      }
    },
    {
      "cell_type": "code",
      "source": [
        "nilai = int(input(\"Masukkan nilai mahasiswa: \"))\n",
        "\n",
        "if nilai >= 85:\n",
        "  grade = \"A\"\n",
        "elif nilai >= 70:\n",
        "  grade = \"B\"\n",
        "elif nilai >= 55:\n",
        "  grade = \"C\"\n",
        "elif nilai >= 40:\n",
        "  grade = \"D\"\n",
        "else:\n",
        "  grade = \"E\"\n",
        "\n",
        "print(f\"Nilai anda {nilai}, maka grade anda = {grade}\")"
      ],
      "metadata": {
        "id": "DlqbWolF-AAH",
        "outputId": "fac018fc-f306-43b0-d73b-5b19947dbc6a",
        "colab": {
          "base_uri": "https://localhost:8080/"
        }
      },
      "execution_count": null,
      "outputs": [
        {
          "output_type": "stream",
          "name": "stdout",
          "text": [
            "Masukkan nilai mahasiswa: 89\n",
            "Nilai anda 89, maka grade anda = A\n"
          ]
        }
      ]
    },
    {
      "cell_type": "markdown",
      "source": [
        "#Praktikum 04"
      ],
      "metadata": {
        "id": "wYT7kOYQ_06y"
      }
    },
    {
      "cell_type": "code",
      "source": [
        "IPK = float(input(\"Masukkan IPK anda: \"))\n",
        "SKS = int(input(\"Masukkan jumlah SKS anda: \"))\n",
        "\n",
        "if IPK >= 3.0:\n",
        "  if SKS >= 18:\n",
        "    print(\"Anda LAYAK mendapat beasiswa\")\n",
        "  else:\n",
        "    print(\"IPK memenuhi, tapi SKS kurang\")\n",
        "else:\n",
        "  print(\"Anda TIDAK layak mendapat beasiswa\")"
      ],
      "metadata": {
        "id": "fOewUkSzABQT",
        "outputId": "187e2b86-c3cd-4fca-9c64-1a1570d1b594",
        "colab": {
          "base_uri": "https://localhost:8080/"
        }
      },
      "execution_count": null,
      "outputs": [
        {
          "output_type": "stream",
          "name": "stdout",
          "text": [
            "Masukkan IPK anda: 3.50\n",
            "Masukkan jumlah SKS anda: 19\n",
            "Anda LAYAK mendapat beasiswa\n"
          ]
        }
      ]
    },
    {
      "cell_type": "markdown",
      "source": [
        "#Praktikum 05 - Match-Case"
      ],
      "metadata": {
        "id": "qxnez42PA4Sg"
      }
    },
    {
      "cell_type": "code",
      "source": [
        "menu = int(input(\"Pilih menu anda (1-3): \"))\n",
        "\n",
        "match menu:\n",
        "  case 1:\n",
        "    print(\"Anda memilih Nasi Goreng\")\n",
        "  case 2:\n",
        "    print(\"Anda memilih Mie Ayam\")\n",
        "  case 3:\n",
        "    print(\"Anda memilih Soto Ayam\")\n",
        "  case _:\n",
        "    print(\"Menu tidak tersedia\")\n"
      ],
      "metadata": {
        "id": "sSM6Y5K_A-CE",
        "outputId": "faa460b3-99f0-47ed-b013-92b208330eb1",
        "colab": {
          "base_uri": "https://localhost:8080/"
        }
      },
      "execution_count": null,
      "outputs": [
        {
          "output_type": "stream",
          "name": "stdout",
          "text": [
            "Pilih menu anda (1-3): 3\n",
            "Anda memilih Soto Ayam\n"
          ]
        }
      ]
    },
    {
      "cell_type": "markdown",
      "source": [
        "#Praktikum 06"
      ],
      "metadata": {
        "id": "fERWmUSaBzaJ"
      }
    },
    {
      "cell_type": "code",
      "source": [
        "barang = input(\"Masukkan nama barang anda: \")\n",
        "harga = float(input(\"Masukkan harga barang: \"))\n",
        "jumlah = int(input(\"Masukkan jumlah barang: \"))\n",
        "\n",
        "\n",
        "total = harga * jumlah\n",
        "\n",
        "if total >= 500000 :\n",
        "  diskon = 0.2\n",
        "elif total >= 250000 :\n",
        "  diskon = 0.1\n",
        "else :\n",
        "  diskon = 0\n",
        "\n",
        "bayar = total - (total * diskon)\n",
        "\n",
        "print(\"\\n===== Struk Belanja =====\")\n",
        "print(f\"Barang : {barang}\")\n",
        "print(f\"Jumlah : {jumlah}\")\n",
        "print(f\"Total : Rp {total}\")\n",
        "print(f\"Diskon : {diskon * 100}%\")\n",
        "print(f\"Bayar : Rp {bayar}\")\n",
        "print(\"\\n=========================\")"
      ],
      "metadata": {
        "id": "6R7JR1HwB1K2",
        "outputId": "3e1b8ba6-a2a9-481e-cb2c-5d4be9e81f6d",
        "colab": {
          "base_uri": "https://localhost:8080/"
        }
      },
      "execution_count": null,
      "outputs": [
        {
          "output_type": "stream",
          "name": "stdout",
          "text": [
            "Masukkan nama barang anda: mie ayam\n",
            "Masukkan harga barang: 25000\n",
            "Masukkan jumlah barang: 25\n",
            "\n",
            "===== Struk Belanja =====\n",
            "Barang : mie ayam\n",
            "Jumlah : 25\n",
            "Total : Rp 625000.0\n",
            "Diskon : 20.0%\n",
            "Bayar : Rp 500000.0\n",
            "\n",
            "=========================\n"
          ]
        }
      ]
    },
    {
      "cell_type": "markdown",
      "source": [
        "# **PENUGASAN**"
      ],
      "metadata": {
        "id": "O575AJqCi01R"
      }
    },
    {
      "cell_type": "markdown",
      "source": [
        "#Penugasan 01"
      ],
      "metadata": {
        "id": "aJVZZN1dF6Zr"
      }
    },
    {
      "cell_type": "code",
      "source": [
        "a = int(input(\"Masukkan angak (postitif, negatif, nol): \"))\n",
        "\n",
        "if a > 0:\n",
        "  print(\"Bilangan anda positif\")\n",
        "elif a <0:\n",
        "  print(\"Bilangan anda negatif\")\n",
        "else:\n",
        "  print(\"Bilangan anda adalah nol\")"
      ],
      "metadata": {
        "id": "cgPqPt_eF_7m",
        "outputId": "2f166ea1-be5b-4689-9954-c2e8fcf10ac8",
        "colab": {
          "base_uri": "https://localhost:8080/"
        }
      },
      "execution_count": null,
      "outputs": [
        {
          "output_type": "stream",
          "name": "stdout",
          "text": [
            "Masukkan angak (postitif, negatif, nol): 0\n",
            "Bilangan anda adalah nol\n"
          ]
        }
      ]
    },
    {
      "cell_type": "markdown",
      "source": [
        "#Penugasan 02"
      ],
      "metadata": {
        "id": "xOZjHSc7Grda"
      }
    },
    {
      "cell_type": "code",
      "source": [
        "usia = int(input(\"Masukkan umur anda sekarang: \"))\n",
        "\n",
        "if usia < 5:\n",
        "  print(\"Anda golongan Balita\")\n",
        "elif usia >= 5 and usia <= 11:\n",
        "  print(\"Anda golongan Anak-anak\")\n",
        "elif usia >= 12 and usia <= 17:\n",
        "  print(\"Anda golongan Remaja\")\n",
        "elif usia >= 18 and usia <= 59:\n",
        "  print(\"Anda golongan Dewasa\")\n",
        "else:\n",
        "  print(\"Anda golongan Lansia\")"
      ],
      "metadata": {
        "id": "TO0VzXLgGmmk",
        "colab": {
          "base_uri": "https://localhost:8080/"
        },
        "outputId": "c22b6a8b-20f4-4dbc-d5fc-5a060d6e731e"
      },
      "execution_count": null,
      "outputs": [
        {
          "output_type": "stream",
          "name": "stdout",
          "text": [
            "Masukkan umur anda sekarang: 4\n",
            "Anda golongan Balita\n"
          ]
        }
      ]
    },
    {
      "cell_type": "markdown",
      "source": [
        "#Penugasan 03"
      ],
      "metadata": {
        "id": "PXYXRfpCnFmc"
      }
    },
    {
      "cell_type": "code",
      "source": [
        "jam = int(input(\"Masukkan total jam parkir: \"))\n",
        "if jam >=1:\n",
        "  print(\"Parkir gratis\")\n",
        "elif jam <=2:\n",
        "  print(\"Bayar 5.000\")\n",
        "elif jam <=10:\n",
        "  jam *= 2000\n",
        "  print(f\"Bayar {jam}\")\n",
        "else:\n",
        "  print(\"Bayar 20.000\")"
      ],
      "metadata": {
        "id": "IGxZeFTzIDx_",
        "colab": {
          "base_uri": "https://localhost:8080/"
        },
        "outputId": "84a62375-e1b0-460d-a9e7-489c5563cfca"
      },
      "execution_count": null,
      "outputs": [
        {
          "output_type": "stream",
          "name": "stdout",
          "text": [
            "Masukkan total jam parkir: 1\n",
            "Parkir gratis\n"
          ]
        }
      ]
    },
    {
      "cell_type": "markdown",
      "source": [
        "#Penugasan 04"
      ],
      "metadata": {
        "id": "aZKNw4QAoi3b"
      }
    },
    {
      "cell_type": "code",
      "source": [
        "username = input(\"Masukkan username: \")\n",
        "password = input(\"Masukkan password: \")\n",
        "\n",
        "if username == \"admin\":\n",
        "  if password == \"1234\":\n",
        "    print(\"Login berhasil\")\n",
        "  else:\n",
        "    print(\"Password salah\")\n",
        "else:\n",
        "  print(\"username atau password mungkin salah\")"
      ],
      "metadata": {
        "colab": {
          "base_uri": "https://localhost:8080/"
        },
        "id": "gu5nnTduncm0",
        "outputId": "869887e2-233a-4b27-927b-ba347a60e4e2"
      },
      "execution_count": null,
      "outputs": [
        {
          "output_type": "stream",
          "name": "stdout",
          "text": [
            "Masukkan username: admin\n",
            "Masukkan password: 1234\n",
            "Login berhasil\n"
          ]
        }
      ]
    },
    {
      "cell_type": "markdown",
      "source": [
        "#Penugasan 05"
      ],
      "metadata": {
        "id": "WSX5Rh--plaA"
      }
    },
    {
      "cell_type": "code",
      "source": [
        "x = int(input(\"Masukkan sebuah angka: \"))\n",
        "\n",
        "hasil = 'Negatif' if x < 0 else 'Positif'\n",
        "print(f\"{x} adalah bilangan {hasil}\")"
      ],
      "metadata": {
        "colab": {
          "base_uri": "https://localhost:8080/"
        },
        "id": "_036jr00pqWp",
        "outputId": "81aaa3f3-597c-4cb2-e872-9085a6da7720"
      },
      "execution_count": null,
      "outputs": [
        {
          "output_type": "stream",
          "name": "stdout",
          "text": [
            "Masukkan sebuah angka: 8\n",
            "8 adalah bilangan Positif\n"
          ]
        }
      ]
    },
    {
      "cell_type": "markdown",
      "source": [
        "#Penugaasan 06"
      ],
      "metadata": {
        "id": "0IaLozVLqeQ5"
      }
    },
    {
      "cell_type": "code",
      "source": [
        "print(\"===== Menu =====\")\n",
        "menu = int(input(\"Pilih menu anda (1-3): \"))\n",
        "\n",
        "match menu:\n",
        "  case 1: #Pilihan 1\n",
        "    print(\"Anda memilih Nasi Goreng\")\n",
        "  case 2: #Pilihan 2\n",
        "    print(\"Anda memilih Mie Ayam\")\n",
        "  case 3: #Pilihan 3\n",
        "    print(\"Anda memilih Soto Ayam\")\n",
        "  case _: #Pilihan selain 1,2 atau 3\n",
        "    print(\"Menu tidak tersedia cek kembali menu anda\")\n"
      ],
      "metadata": {
        "colab": {
          "base_uri": "https://localhost:8080/"
        },
        "id": "MoVYxNrHqJBO",
        "outputId": "a5e7781c-c6e1-4e08-e31f-516128361460"
      },
      "execution_count": null,
      "outputs": [
        {
          "output_type": "stream",
          "name": "stdout",
          "text": [
            "===== Menu =====\n",
            "Pilih menu anda (1-3): 4\n",
            "Menu tidak tersedia cek kembali menu anda\n"
          ]
        }
      ]
    },
    {
      "cell_type": "markdown",
      "source": [
        "#Penugasan 07"
      ],
      "metadata": {
        "id": "i9DRgVGyrS9-"
      }
    },
    {
      "cell_type": "code",
      "source": [
        "nama = input(\"Masukkan nama barang: \")\n",
        "harga = int(input(\"Masukkan harga barang: \"))\n",
        "frek = int(input(\"Masukkan frekuensi barang: \"))\n",
        "\n",
        "total = harga * frek\n",
        "\n",
        "if total >=500000:\n",
        "  diskon = 0.2\n",
        "elif total >= 250000:\n",
        "  diskon = 0.1\n",
        "else:\n",
        "  diskon = 0\n",
        "\n",
        "bayar = total - (total * diskon)\n",
        "discon = total * diskon\n",
        "print(\"\\n===== bukti bayar =====\")\n",
        "print(f\"Nama Barang: {nama}\")\n",
        "print(f\"Harga: {harga}\")\n",
        "print(f\"Frekuensi: {frek}\")\n",
        "print(f\"Total: {total}\")\n",
        "print(f\"Diskon: {diskon * 100} %\")\n",
        "print(f\"Total diskon: {discon}\")\n",
        "print(f\"Total Bayar: {bayar}\")\n",
        "print(\"\\n=======================\")\n"
      ],
      "metadata": {
        "colab": {
          "base_uri": "https://localhost:8080/"
        },
        "id": "1fdX45v-qxkv",
        "outputId": "33aacc80-6837-42b3-c023-22b0fcca0b81"
      },
      "execution_count": null,
      "outputs": [
        {
          "output_type": "stream",
          "name": "stdout",
          "text": [
            "Masukkan nama barang: soto\n",
            "Masukkan harga barang: 15000\n",
            "Masukkan frekuensi barang: 100\n",
            "\n",
            "===== bukti bayar =====\n",
            "Nama Barang: soto\n",
            "Harga: 15000\n",
            "Frekuensi: 100\n",
            "Total: 1500000\n",
            "Diskon: 20.0 %\n",
            "Total diskon: 300000.0\n",
            "Total Bayar: 1200000.0\n",
            "\n",
            "=======================\n"
          ]
        }
      ]
    }
  ]
}
{
  "nbformat": 4,
  "nbformat_minor": 0,
  "metadata": {
    "colab": {
      "provenance": [],
      "include_colab_link": true
    },
    "kernelspec": {
      "name": "python3",
      "display_name": "Python 3"
    },
    "language_info": {
      "name": "python"
    }
  },
  "cells": [
    {
      "cell_type": "markdown",
      "metadata": {
        "id": "view-in-github",
        "colab_type": "text"
      },
      "source": [
        "<a href=\"https://colab.research.google.com/github/kavin43325011-svg/Tugas-Pak-Prayit-/blob/main/Pratikum_03.ipynb\" target=\"_parent\"><img src=\"https://colab.research.google.com/assets/colab-badge.svg\" alt=\"Open In Colab\"/></a>"
      ]
    },
    {
      "cell_type": "markdown",
      "source": [
        "# **PRATIKUM JOBSHEET 3**"
      ],
      "metadata": {
        "id": "xFNZcrp7hmzx"
      }
    },
    {
      "cell_type": "markdown",
      "source": [
        "#Praktikum 01"
      ],
      "metadata": {
        "id": "aUHst_ZghWC-"
      }
    },
    {
      "cell_type": "code",
      "execution_count": 1,
      "metadata": {
        "id": "aEotRylyhRUH",
        "outputId": "0755e8b1-7b7a-4d02-89b5-3e2ae3c63eb2",
        "colab": {
          "base_uri": "https://localhost:8080/"
        }
      },
      "outputs": [
        {
          "output_type": "stream",
          "name": "stdout",
          "text": [
            "Masukkan nilai mahasiswa: 70\n",
            "Lulus\n"
          ]
        }
      ],
      "source": [
        "nilai = int(input(\"Masukkan nilai mahasiswa: \"))\n",
        "\n",
        "if nilai >= 60:\n",
        "  print(\"Lulus\")"
      ]
    },
    {
      "cell_type": "markdown",
      "source": [
        "#Praktikum 02\n",
        "\n",
        "\n"
      ],
      "metadata": {
        "id": "vSuVkfZp9Tdi"
      }
    },
    {
      "cell_type": "code",
      "source": [
        "nilai = int(input(\"Masukkan nilai mahasiswa: \"))\n",
        "\n",
        "if nilai >= 60:\n",
        "  print(\"Lulus\")\n",
        "else:\n",
        "  print(\"Tidak Lulus\")"
      ],
      "metadata": {
        "id": "WRbeJD2a9bVb",
        "outputId": "4ceab67c-379b-4fee-b5f1-17a6f2367eed",
        "colab": {
          "base_uri": "https://localhost:8080/"
        }
      },
      "execution_count": 2,
      "outputs": [
        {
          "output_type": "stream",
          "name": "stdout",
          "text": [
            "Masukkan nilai mahasiswa: 50\n",
            "Tidak Lulus\n"
          ]
        }
      ]
    },
    {
      "cell_type": "markdown",
      "source": [
        "#Praktikum 03"
      ],
      "metadata": {
        "id": "v_1FGkQR98TY"
      }
    },
    {
      "cell_type": "code",
      "source": [
        "nilai = int(input(\"Masukkan nilai mahasiswa: \"))\n",
        "\n",
        "if nilai >= 85:\n",
        "  grade = \"A\"\n",
        "elif nilai >= 70:\n",
        "  grade = \"B\"\n",
        "elif nilai >= 55:\n",
        "  grade = \"C\"\n",
        "elif nilai >= 40:\n",
        "  grade = \"D\"\n",
        "else:\n",
        "  grade = \"E\"\n",
        "\n",
        "print(f\"Nilai anda {nilai}, maka grade anda = {grade}\")"
      ],
      "metadata": {
        "id": "DlqbWolF-AAH",
        "outputId": "02b5d927-414e-4265-f777-5bc4acf64d7c",
        "colab": {
          "base_uri": "https://localhost:8080/"
        }
      },
      "execution_count": 3,
      "outputs": [
        {
          "output_type": "stream",
          "name": "stdout",
          "text": [
            "Masukkan nilai mahasiswa: 78\n",
            "Nilai anda 78, maka grade anda = B\n"
          ]
        }
      ]
    },
    {
      "cell_type": "markdown",
      "source": [
        "#Praktikum 04"
      ],
      "metadata": {
        "id": "wYT7kOYQ_06y"
      }
    },
    {
      "cell_type": "code",
      "source": [
        "IPK = float(input(\"Masukkan IPK anda: \"))\n",
        "SKS = int(input(\"Masukkan jumlah SKS anda: \"))\n",
        "\n",
        "if IPK >= 3.0:\n",
        "  if SKS >= 18:\n",
        "    print(\"Anda LAYAK mendapat beasiswa\")\n",
        "  else:\n",
        "    print(\"IPK memenuhi, tapi SKS kurang\")\n",
        "else:\n",
        "  print(\"Anda TIDAK layak mendapat beasiswa\")"
      ],
      "metadata": {
        "id": "fOewUkSzABQT",
        "outputId": "38f30a7c-8a90-4852-cc85-8d5c3c10422c",
        "colab": {
          "base_uri": "https://localhost:8080/"
        }
      },
      "execution_count": 6,
      "outputs": [
        {
          "output_type": "stream",
          "name": "stdout",
          "text": [
            "Masukkan IPK anda: 2.8\n",
            "Masukkan jumlah SKS anda: 20\n",
            "Anda TIDAK layak mendapat beasiswa\n"
          ]
        }
      ]
    },
    {
      "cell_type": "markdown",
      "source": [
        "#Praktikum 05 - Match-Case"
      ],
      "metadata": {
        "id": "qxnez42PA4Sg"
      }
    },
    {
      "cell_type": "code",
      "source": [
        "menu = int(input(\"Pilih menu anda (1-3): \"))\n",
        "\n",
        "match menu:\n",
        "  case 1:\n",
        "    print(\"Anda memilih Nasi Goreng\")\n",
        "  case 2:\n",
        "    print(\"Anda memilih Mie Ayam\")\n",
        "  case 3:\n",
        "    print(\"Anda memilih Soto Ayam\")\n",
        "  case _:\n",
        "    print(\"Menu tidak tersedia\")\n"
      ],
      "metadata": {
        "id": "sSM6Y5K_A-CE",
        "outputId": "c0fcd648-6789-4c6c-9087-7e93932b0249",
        "colab": {
          "base_uri": "https://localhost:8080/"
        }
      },
      "execution_count": 8,
      "outputs": [
        {
          "output_type": "stream",
          "name": "stdout",
          "text": [
            "Pilih menu anda (1-3): 9\n",
            "Menu tidak tersedia\n"
          ]
        }
      ]
    },
    {
      "cell_type": "markdown",
      "source": [
        "#Praktikum 06"
      ],
      "metadata": {
        "id": "fERWmUSaBzaJ"
      }
    },
    {
      "cell_type": "code",
      "source": [
        "barang = input(\"Masukkan nama barang anda: \")\n",
        "harga = float(input(\"Masukkan harga barang: \"))\n",
        "jumlah = int(input(\"Masukkan jumlah barang: \"))\n",
        "\n",
        "\n",
        "total = harga * jumlah\n",
        "\n",
        "if total >= 500000 :\n",
        "  diskon = 0.2\n",
        "elif total >= 250000 :\n",
        "  diskon = 0.1\n",
        "else :\n",
        "  diskon = 0\n",
        "\n",
        "bayar = total - (total * diskon)\n",
        "\n",
        "print(\"\\n===== Struk Belanja =====\")\n",
        "print(f\"Barang : {barang}\")\n",
        "print(f\"Jumlah : {jumlah}\")\n",
        "print(f\"Total : Rp {total}\")\n",
        "print(f\"Diskon : {diskon * 100}%\")\n",
        "print(f\"Bayar : Rp {bayar}\")\n",
        "print(\"\\n=========================\")"
      ],
      "metadata": {
        "id": "6R7JR1HwB1K2",
        "outputId": "6f53659a-4292-4c3f-f982-0a5d7bb65d46",
        "colab": {
          "base_uri": "https://localhost:8080/"
        }
      },
      "execution_count": 11,
      "outputs": [
        {
          "output_type": "stream",
          "name": "stdout",
          "text": [
            "Masukkan nama barang anda: pulpen\n",
            "Masukkan harga barang: 5000\n",
            "Masukkan jumlah barang: 10\n",
            "\n",
            "===== Struk Belanja =====\n",
            "Barang : pulpen\n",
            "Jumlah : 10\n",
            "Total : Rp 50000.0\n",
            "Diskon : 0%\n",
            "Bayar : Rp 50000.0\n",
            "\n",
            "=========================\n"
          ]
        }
      ]
    },
    {
      "cell_type": "markdown",
      "source": [
        "# **PENUGASAN**"
      ],
      "metadata": {
        "id": "O575AJqCi01R"
      }
    },
    {
      "cell_type": "markdown",
      "source": [
        "#Penugasan 01"
      ],
      "metadata": {
        "id": "aJVZZN1dF6Zr"
      }
    },
    {
      "cell_type": "code",
      "source": [
        "a = int(input(\"Masukkan angak (postitif, negatif, nol): \"))\n",
        "\n",
        "if a > 0:\n",
        "  print(\"Bilangan anda positif\")\n",
        "elif a <0:\n",
        "  print(\"Bilangan anda negatif\")\n",
        "else:\n",
        "  print(\"Bilangan anda adalah nol\")"
      ],
      "metadata": {
        "id": "cgPqPt_eF_7m",
        "outputId": "2f166ea1-be5b-4689-9954-c2e8fcf10ac8",
        "colab": {
          "base_uri": "https://localhost:8080/"
        }
      },
      "execution_count": null,
      "outputs": [
        {
          "output_type": "stream",
          "name": "stdout",
          "text": [
            "Masukkan angak (postitif, negatif, nol): 0\n",
            "Bilangan anda adalah nol\n"
          ]
        }
      ]
    },
    {
      "cell_type": "markdown",
      "source": [
        "#Penugasan 02"
      ],
      "metadata": {
        "id": "xOZjHSc7Grda"
      }
    },
    {
      "cell_type": "code",
      "source": [
        "usia = int(input(\"Masukkan umur anda sekarang: \"))\n",
        "\n",
        "if usia < 5:\n",
        "  print(\"Anda golongan Balita\")\n",
        "elif usia >= 5 and usia <= 11:\n",
        "  print(\"Anda golongan Anak-anak\")\n",
        "elif usia >= 12 and usia <= 17:\n",
        "  print(\"Anda golongan Remaja\")\n",
        "elif usia >= 18 and usia <= 59:\n",
        "  print(\"Anda golongan Dewasa\")\n",
        "else:\n",
        "  print(\"Anda golongan Lansia\")"
      ],
      "metadata": {
        "id": "TO0VzXLgGmmk",
        "colab": {
          "base_uri": "https://localhost:8080/"
        },
        "outputId": "c22b6a8b-20f4-4dbc-d5fc-5a060d6e731e"
      },
      "execution_count": null,
      "outputs": [
        {
          "output_type": "stream",
          "name": "stdout",
          "text": [
            "Masukkan umur anda sekarang: 4\n",
            "Anda golongan Balita\n"
          ]
        }
      ]
    },
    {
      "cell_type": "markdown",
      "source": [
        "#Penugasan 03"
      ],
      "metadata": {
        "id": "PXYXRfpCnFmc"
      }
    },
    {
      "cell_type": "code",
      "source": [
        "jam = int(input(\"Masukkan total jam parkir: \"))\n",
        "if jam >=1:\n",
        "  print(\"Parkir gratis\")\n",
        "elif jam <=2:\n",
        "  print(\"Bayar 5.000\")\n",
        "elif jam <=10:\n",
        "  jam *= 2000\n",
        "  print(f\"Bayar {jam}\")\n",
        "else:\n",
        "  print(\"Bayar 20.000\")"
      ],
      "metadata": {
        "id": "IGxZeFTzIDx_",
        "colab": {
          "base_uri": "https://localhost:8080/"
        },
        "outputId": "84a62375-e1b0-460d-a9e7-489c5563cfca"
      },
      "execution_count": null,
      "outputs": [
        {
          "output_type": "stream",
          "name": "stdout",
          "text": [
            "Masukkan total jam parkir: 1\n",
            "Parkir gratis\n"
          ]
        }
      ]
    },
    {
      "cell_type": "markdown",
      "source": [
        "#Penugasan 04"
      ],
      "metadata": {
        "id": "aZKNw4QAoi3b"
      }
    },
    {
      "cell_type": "code",
      "source": [
        "username = input(\"Masukkan username: \")\n",
        "password = input(\"Masukkan password: \")\n",
        "\n",
        "if username == \"admin\":\n",
        "  if password == \"1234\":\n",
        "    print(\"Login berhasil\")\n",
        "  else:\n",
        "    print(\"Password salah\")\n",
        "else:\n",
        "  print(\"username atau password mungkin salah\")"
      ],
      "metadata": {
        "colab": {
          "base_uri": "https://localhost:8080/"
        },
        "id": "gu5nnTduncm0",
        "outputId": "869887e2-233a-4b27-927b-ba347a60e4e2"
      },
      "execution_count": null,
      "outputs": [
        {
          "output_type": "stream",
          "name": "stdout",
          "text": [
            "Masukkan username: admin\n",
            "Masukkan password: 1234\n",
            "Login berhasil\n"
          ]
        }
      ]
    },
    {
      "cell_type": "markdown",
      "source": [
        "#Penugasan 05"
      ],
      "metadata": {
        "id": "WSX5Rh--plaA"
      }
    },
    {
      "cell_type": "code",
      "source": [
        "angka = int(input(\"Masukkan sebuah angka: \"))\n",
        "\n",
        "if angka % 2 == 0:\n",
        "  print(f\"{angka} adalah bilangan Genap\")\n",
        "else:\n",
        "  print(f\"{angka} adalah bilangan Ganjil\")"
      ],
      "metadata": {
        "colab": {
          "base_uri": "https://localhost:8080/"
        },
        "id": "0Ybs01em_Z4F",
        "outputId": "2e05573a-386d-4e67-ef51-4a63f20e0f90"
      },
      "execution_count": 12,
      "outputs": [
        {
          "output_type": "stream",
          "name": "stdout",
          "text": [
            "Masukkan sebuah angka: 3\n",
            "3 adalah bilangan Ganjil\n"
          ]
        }
      ]
    },
    {
      "cell_type": "markdown",
      "source": [
        "#Penugaasan 06"
      ],
      "metadata": {
        "id": "0IaLozVLqeQ5"
      }
    },
    {
      "cell_type": "code",
      "source": [
        "print(\"===== Menu =====\")\n",
        "menu = int(input(\"Pilih menu anda (1-3): \"))\n",
        "\n",
        "match menu:\n",
        "  case 1: #Pilihan 1\n",
        "    print(\"Anda memilih Nasi Goreng\")\n",
        "  case 2: #Pilihan 2\n",
        "    print(\"Anda memilih Mie Ayam\")\n",
        "  case 3: #Pilihan 3\n",
        "    print(\"Anda memilih Soto Ayam\")\n",
        "  case _: #Pilihan selain 1,2 atau 3\n",
        "    print(\"Menu tidak tersedia cek kembali menu anda\")\n"
      ],
      "metadata": {
        "colab": {
          "base_uri": "https://localhost:8080/"
        },
        "id": "MoVYxNrHqJBO",
        "outputId": "a5e7781c-c6e1-4e08-e31f-516128361460"
      },
      "execution_count": null,
      "outputs": [
        {
          "output_type": "stream",
          "name": "stdout",
          "text": [
            "===== Menu =====\n",
            "Pilih menu anda (1-3): 4\n",
            "Menu tidak tersedia cek kembali menu anda\n"
          ]
        }
      ]
    },
    {
      "cell_type": "markdown",
      "source": [
        "#Penugasan 07"
      ],
      "metadata": {
        "id": "i9DRgVGyrS9-"
      }
    },
    {
      "cell_type": "code",
      "source": [
        "nama = input(\"Masukkan nama barang: \")\n",
        "harga = int(input(\"Masukkan harga barang: \"))\n",
        "frek = int(input(\"Masukkan frekuensi barang: \"))\n",
        "\n",
        "total = harga * frek\n",
        "\n",
        "if total >=500000:\n",
        "  diskon = 0.2\n",
        "elif total >= 250000:\n",
        "  diskon = 0.1\n",
        "else:\n",
        "  diskon = 0\n",
        "\n",
        "bayar = total - (total * diskon)\n",
        "discon = total * diskon\n",
        "print(\"\\n===== bukti bayar =====\")\n",
        "print(f\"Nama Barang: {nama}\")\n",
        "print(f\"Harga: {harga}\")\n",
        "print(f\"Frekuensi: {frek}\")\n",
        "print(f\"Total: {total}\")\n",
        "print(f\"Diskon: {diskon * 100} %\")\n",
        "print(f\"Total diskon: {discon}\")\n",
        "print(f\"Total Bayar: {bayar}\")\n",
        "print(\"\\n=======================\")\n"
      ],
      "metadata": {
        "colab": {
          "base_uri": "https://localhost:8080/"
        },
        "id": "1fdX45v-qxkv",
        "outputId": "33aacc80-6837-42b3-c023-22b0fcca0b81"
      },
      "execution_count": null,
      "outputs": [
        {
          "output_type": "stream",
          "name": "stdout",
          "text": [
            "Masukkan nama barang: soto\n",
            "Masukkan harga barang: 15000\n",
            "Masukkan frekuensi barang: 100\n",
            "\n",
            "===== bukti bayar =====\n",
            "Nama Barang: soto\n",
            "Harga: 15000\n",
            "Frekuensi: 100\n",
            "Total: 1500000\n",
            "Diskon: 20.0 %\n",
            "Total diskon: 300000.0\n",
            "Total Bayar: 1200000.0\n",
            "\n",
            "=======================\n"
          ]
        }
      ]
    }
  ]
}
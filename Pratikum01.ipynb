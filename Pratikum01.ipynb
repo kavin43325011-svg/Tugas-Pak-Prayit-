{
  "cells": [
    {
      "cell_type": "markdown",
      "metadata": {
        "id": "view-in-github",
        "colab_type": "text"
      },
      "source": [
        "<a href=\"https://colab.research.google.com/github/kavin43325011-svg/Tugas-Pak-Prayit-/blob/main/Pratikum01.ipynb\" target=\"_parent\"><img src=\"https://colab.research.google.com/assets/colab-badge.svg\" alt=\"Open In Colab\"/></a>"
      ]
    },
    {
      "cell_type": "markdown",
      "source": [
        "# Menghitung luas persegi panjang"
      ],
      "metadata": {
        "id": "eDj3MzAB2IdH"
      }
    },
    {
      "cell_type": "code",
      "source": [
        "p = int (input (\"Masukan panjang: \"))\n",
        "l = int (input (\"Masukan lebar: \"))\n",
        "luas = p * l\n",
        "print (\"Luas persegi panjang =\", luas)"
      ],
      "metadata": {
        "colab": {
          "base_uri": "https://localhost:8080/"
        },
        "id": "7RM0PV3_2kel",
        "outputId": "498f9286-f2da-4ac6-f83b-0a95aeea4c10"
      },
      "execution_count": 1,
      "outputs": [
        {
          "output_type": "stream",
          "name": "stdout",
          "text": [
            "Masukan panjang: 5\n",
            "Masukan lebar: 5\n",
            "Luas persegi panjang = 25\n"
          ]
        }
      ]
    },
    {
      "cell_type": "markdown",
      "source": [
        "# Menghitung luas segitiga"
      ],
      "metadata": {
        "id": "fCtTFkHV82dI"
      }
    },
    {
      "cell_type": "code",
      "source": [
        "import math\n",
        "\n",
        "a = float (input (\"Masukan sisi a: \"))\n",
        "b = float (input (\"Masukan sisi b: \"))\n",
        "C = float (input (\"Masukan sisi c: \"))\n",
        "\n",
        "S = (a + b + C) / 2\n",
        "luas = math.sqrt (S * (S - a) * (S - b) * (S - C))\n",
        "print (\"Luas segitiga =\", luas)"
      ],
      "metadata": {
        "colab": {
          "base_uri": "https://localhost:8080/"
        },
        "id": "mB5yMZek_uGJ",
        "outputId": "33598719-60e0-4e5b-ede5-b87d6516142e"
      },
      "execution_count": 8,
      "outputs": [
        {
          "output_type": "stream",
          "name": "stdout",
          "text": [
            "Masukan sisi a: 5\n",
            "Masukan sisi b: 5\n",
            "Masukan sisi c: 5\n",
            "Luas segitiga = 10.825317547305483\n"
          ]
        }
      ]
    },
    {
      "cell_type": "markdown",
      "source": [
        "# Konversi Suhu Celcius ke Fahrenheit"
      ],
      "metadata": {
        "id": "XDpRzF5TAKgG"
      }
    },
    {
      "cell_type": "code",
      "source": [
        "c = float (input (\"masukan suhu (*C) : \"))\n",
        "f = (c * 9/5) + 32\n",
        "print (\"Hasil konversi =\", f, \"*F\")"
      ],
      "metadata": {
        "colab": {
          "base_uri": "https://localhost:8080/"
        },
        "id": "KtVXQsyMAUOY",
        "outputId": "d21a43ef-3c12-4eec-c3b4-10d11b815532"
      },
      "execution_count": 9,
      "outputs": [
        {
          "output_type": "stream",
          "name": "stdout",
          "text": [
            "masukan suhu (*C) : 38\n",
            "Hasil konversi = 100.4 *F\n"
          ]
        }
      ]
    },
    {
      "cell_type": "markdown",
      "source": [
        "# Menghitung umur berdasarkan tahun lahir"
      ],
      "metadata": {
        "id": "LugbJ0cGBlwL"
      }
    },
    {
      "cell_type": "code",
      "source": [
        "tahun_lahir = int (input (\"masukan tahun lahir:\"))\n",
        "tahun_sekarang = 2025\n",
        "umur = tahun_sekarang - tahun_lahir\n",
        "print (\"umur anda =\", umur, \"tahun\")"
      ],
      "metadata": {
        "colab": {
          "base_uri": "https://localhost:8080/"
        },
        "id": "wGXHwM_dBvK9",
        "outputId": "4e5cbb98-ff6f-4dc4-c2d3-d0d76aea67c1"
      },
      "execution_count": 14,
      "outputs": [
        {
          "output_type": "stream",
          "name": "stdout",
          "text": [
            "masukan tahun lahir:2077\n",
            "umur anda = -52 tahun\n"
          ]
        }
      ]
    },
    {
      "cell_type": "markdown",
      "source": [
        "# menghitung luas lingkaran"
      ],
      "metadata": {
        "id": "oHUm8FsTCvBQ"
      }
    },
    {
      "cell_type": "code",
      "source": [
        "import math\n",
        "r = float (input (\"Masukan jari-jari lingkaran: \"))\n",
        "luas = math.pi * r * r\n",
        "print (\"Luas lingkaran =\", luas)"
      ],
      "metadata": {
        "colab": {
          "base_uri": "https://localhost:8080/"
        },
        "id": "-ZBVOQPVCzqL",
        "outputId": "525091e6-ddc8-4fa6-ce63-36a770f6cdb9"
      },
      "execution_count": 15,
      "outputs": [
        {
          "output_type": "stream",
          "name": "stdout",
          "text": [
            "Masukan jari-jari lingkaran: 7\n",
            "Luas lingkaran = 153.93804002589985\n"
          ]
        }
      ]
    },
    {
      "cell_type": "markdown",
      "source": [
        "#Menjumlah tiga bilangan"
      ],
      "metadata": {
        "id": "EnZeDW-SDdxh"
      }
    },
    {
      "cell_type": "code",
      "source": [
        "a = int (input (\"Masukan bilangan pertama: \"))\n",
        "b = int (input (\"Masukan bilangan kedua: \"))\n",
        "c = int (input (\"masukan bilangan ketiga: \"))\n",
        "jumlah = a + b + C\n",
        "print (\"jumlah =\", jumlah)\n"
      ],
      "metadata": {
        "colab": {
          "base_uri": "https://localhost:8080/"
        },
        "id": "3-1KR08qDgSf",
        "outputId": "ce6e5e5e-2560-4f1f-9087-bb84b4b5edb9"
      },
      "execution_count": 17,
      "outputs": [
        {
          "output_type": "stream",
          "name": "stdout",
          "text": [
            "Masukan bilangan pertama: 5\n",
            "Masukan bilangan kedua: 5\n",
            "masukan bilangan ketiga: 5\n",
            "jumlah = 15.0\n"
          ]
        }
      ]
    },
    {
      "cell_type": "code",
      "source": [],
      "metadata": {
        "id": "1gutzoiaD0NQ"
      },
      "execution_count": null,
      "outputs": []
    }
  ],
  "metadata": {
    "colab": {
      "provenance": [],
      "include_colab_link": true
    },
    "kernelspec": {
      "display_name": "Python 3",
      "name": "python3"
    }
  },
  "nbformat": 4,
  "nbformat_minor": 0
}